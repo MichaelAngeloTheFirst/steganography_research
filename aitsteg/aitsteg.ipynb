{
 "cells": [
  {
   "cell_type": "code",
   "execution_count": 88,
   "metadata": {},
   "outputs": [],
   "source": [
    "import math\n",
    "import time"
   ]
  },
  {
   "cell_type": "code",
   "execution_count": 89,
   "metadata": {},
   "outputs": [],
   "source": [
    "# t = time.localtime()\n",
    "# current_time = time.strftime(\"%H%M\", t)\n",
    "# print(current_time)\n",
    "# MS_SK = current_time[:3]"
   ]
  },
  {
   "cell_type": "code",
   "execution_count": 90,
   "metadata": {},
   "outputs": [],
   "source": [
    "#required parameters for aitsteg embedding and extraction\n",
    "SM = 'secret message I want to hide'\n",
    "CM = 'cover message I want to hide the secret message in'\n",
    "MS_SK = int(time.strftime(\"%H%M\", time.localtime())[:3])\n"
   ]
  },
  {
   "cell_type": "code",
   "execution_count": 91,
   "metadata": {},
   "outputs": [],
   "source": [
    "ZWC={\"00\":u'\\u200C',\"01\":u'\\u202C',\"10\":u'\\u202D',\"11\":u'\\u200E'}"
   ]
  },
  {
   "cell_type": "code",
   "execution_count": 92,
   "metadata": {},
   "outputs": [],
   "source": [
    "def get_factors(ni):\n",
    "    return [i for i in range(1, ni+1) if (ni+1) % i == 0]\n"
   ]
  },
  {
   "cell_type": "code",
   "execution_count": 93,
   "metadata": {},
   "outputs": [],
   "source": [
    "def get_alfa(factors,ni):\n",
    "    natural_alphas = [math.log2(na) for na  in factors if math.log2(na).is_integer()]\n",
    "\n",
    "    # alphas = [a for a in natural_alphas if (ni+1)%2**a == 1 ]\n",
    "    return int(max(natural_alphas))"
   ]
  },
  {
   "cell_type": "code",
   "execution_count": 94,
   "metadata": {},
   "outputs": [],
   "source": [
    "MS_SK_bin = format(MS_SK, '08b')\n"
   ]
  },
  {
   "cell_type": "code",
   "execution_count": 95,
   "metadata": {},
   "outputs": [
    {
     "name": "stdout",
     "output_type": "stream",
     "text": [
      "000010001110000001011001000010001100000000111001000001011001000000111010000000010000000001011011000001011001000010001110000010001110000001011000000011000110000001011001000000010000000001010010000000010000000011000111000001011000000000110111000000111010000000010000000000111010000100000011000000010000000000110100000001011010000000110010000001011001\n"
     ]
    }
   ],
   "source": [
    "SM_binary = ''\n",
    "for letter in SM:\n",
    "    ni = ord(letter)\n",
    "    # print(ni, end=' ')   \n",
    "    # generate pair of numbers for each ni (alfa and beta)\n",
    "    #alfa \n",
    "    # get all values: 2 ^alfa|(ni+1) and (ni+1)/2^alfa is odd\n",
    "  \n",
    "    factors = get_factors(ni)\n",
    "    # factor = 2^alfa and alfa is natural number\n",
    "    alfa = get_alfa(factors,ni)\n",
    "    # print(alfa, end=' ')\n",
    "    # beta\n",
    "    beta = int((((ni +1)/2**alfa) -1)/2)\n",
    "    # print(beta)\n",
    "    #convert alfa and beta to 6 bit binary\n",
    "    alfa_bin = format(alfa, '06b')\n",
    "    beta_bin = format(beta, '06b')\n",
    "    # print(alfa_bin, beta_bin)\n",
    "    bit_str = str(alfa_bin) + str(beta_bin)\n",
    "    # print(bit_str)\n",
    "    SM_binary += bit_str\n",
    "\n",
    "print(SM_binary)\n",
    "    "
   ]
  },
  {
   "cell_type": "code",
   "execution_count": 96,
   "metadata": {},
   "outputs": [],
   "source": [
    "def my_xor(a, b, n): \n",
    "    return ''.join('0' if a[i] == b[i] else '1' for i in range(n))"
   ]
  },
  {
   "cell_type": "code",
   "execution_count": 97,
   "metadata": {},
   "outputs": [
    {
     "name": "stdout",
     "output_type": "stream",
     "text": [
      "44\n",
      "1011100110111001101110011011100110111001101110011011100110111001101110011011100110111001101110011011100110111001101110011011100110111001101110011011100110111001101110011011100110111001101110011011100110111001101110011011100110111001101110011011100110111001101110011011100110111001101110011011100110111001101110011011100110111001101110011011100110111001\n",
      "000010001110000001011001000010001100000000111001000001011001000000111010000000010000000001011011000001011001000010001110000010001110000001011000000011000110000001011001000000010000000001010010000000010000000011000111000001011000000000110111000000111010000000010000000000111010000100000011000000010000000000110100000001011010000000110010000001011001\n",
      "not equal\n",
      "101100010101100111100000101100010111100110000000101111000010100110000011101110001011100111100010101111000010100100110111101100010101100111100001101101011101100111100000101110001011100111101011101110001011100101111110101111000011100110001110101110100001100110101001101110100001100010111010101110001011100110001101101111000001100110001011101111000010\n"
     ]
    }
   ],
   "source": [
    "LSK = len(MS_SK_bin)\n",
    "LS = len(SM_binary)\n",
    "P = 0 if LS%LSK == 0 else 1\n",
    "NC = int(LS/LSK) + P\n",
    "print(NC)\n",
    "hash_position_bits = NC* MS_SK_bin\n",
    "print(hash_position_bits)\n",
    "print(SM_binary)\n",
    "#compare hash_position_bits with SM_binary\n",
    "if(hash_position_bits == SM_binary):\n",
    "    print('equal')\n",
    "else:\n",
    "    print('not equal')\n",
    "\n",
    "hashed_sm_binary = my_xor(SM_binary, hash_position_bits, LS)\n",
    "print(hashed_sm_binary)"
   ]
  },
  {
   "cell_type": "code",
   "execution_count": 98,
   "metadata": {},
   "outputs": [
    {
     "name": "stdout",
     "output_type": "stream",
     "text": [
      "10\n",
      "11\n",
      "10\n",
      "01\n"
     ]
    }
   ],
   "source": [
    "HM_SK = ''\n",
    "i=0\n",
    "x=''\n",
    "while i < len(MS_SK_bin)-1:\n",
    "    x = MS_SK_bin[i:i+2]\n",
    "    print(x)\n",
    "    HM_SK+= ZWC[x]\n",
    "    i += 2"
   ]
  },
  {
   "cell_type": "code",
   "execution_count": 99,
   "metadata": {},
   "outputs": [
    {
     "name": "stdout",
     "output_type": "stream",
     "text": [
      "10\n",
      "11\n",
      "00\n",
      "01\n",
      "01\n",
      "01\n",
      "10\n",
      "01\n",
      "11\n",
      "10\n",
      "00\n",
      "00\n",
      "10\n",
      "11\n",
      "00\n",
      "01\n",
      "01\n",
      "11\n",
      "10\n",
      "01\n",
      "10\n",
      "00\n",
      "00\n",
      "00\n",
      "10\n",
      "11\n",
      "11\n",
      "00\n",
      "00\n",
      "10\n",
      "10\n",
      "01\n",
      "10\n",
      "00\n",
      "00\n",
      "11\n",
      "10\n",
      "11\n",
      "10\n",
      "00\n",
      "10\n",
      "11\n",
      "10\n",
      "01\n",
      "11\n",
      "10\n",
      "00\n",
      "10\n",
      "10\n",
      "11\n",
      "11\n",
      "00\n",
      "00\n",
      "10\n",
      "10\n",
      "01\n",
      "00\n",
      "11\n",
      "01\n",
      "11\n",
      "10\n",
      "11\n",
      "00\n",
      "01\n",
      "01\n",
      "01\n",
      "10\n",
      "01\n",
      "11\n",
      "10\n",
      "00\n",
      "01\n",
      "10\n",
      "11\n",
      "01\n",
      "01\n",
      "11\n",
      "01\n",
      "10\n",
      "01\n",
      "11\n",
      "10\n",
      "00\n",
      "00\n",
      "10\n",
      "11\n",
      "10\n",
      "00\n",
      "10\n",
      "11\n",
      "10\n",
      "01\n",
      "11\n",
      "10\n",
      "10\n",
      "11\n",
      "10\n",
      "11\n",
      "10\n",
      "00\n",
      "10\n",
      "11\n",
      "10\n",
      "01\n",
      "01\n",
      "11\n",
      "11\n",
      "10\n",
      "10\n",
      "11\n",
      "11\n",
      "00\n",
      "00\n",
      "11\n",
      "10\n",
      "01\n",
      "10\n",
      "00\n",
      "11\n",
      "10\n",
      "10\n",
      "11\n",
      "10\n",
      "10\n",
      "00\n",
      "01\n",
      "10\n",
      "01\n",
      "10\n",
      "10\n",
      "10\n",
      "01\n",
      "10\n",
      "11\n",
      "10\n",
      "10\n",
      "00\n",
      "01\n",
      "10\n",
      "00\n",
      "10\n",
      "11\n",
      "10\n",
      "10\n",
      "10\n",
      "11\n",
      "10\n",
      "00\n",
      "10\n",
      "11\n",
      "10\n",
      "01\n",
      "10\n",
      "00\n",
      "11\n",
      "01\n",
      "10\n",
      "11\n",
      "11\n",
      "00\n",
      "00\n",
      "01\n",
      "10\n",
      "01\n",
      "10\n",
      "00\n",
      "10\n",
      "11\n",
      "10\n",
      "11\n",
      "11\n",
      "00\n",
      "00\n",
      "10\n"
     ]
    }
   ],
   "source": [
    "HM_ZWC =''\n",
    "i =0\n",
    "x =''\n",
    "while i < len(hashed_sm_binary)-1:\n",
    "    x = hashed_sm_binary[i:i+2]\n",
    "    print(x)\n",
    "    HM_ZWC += ZWC[x]\n",
    "    i += 2\n",
    "    \n"
   ]
  },
  {
   "cell_type": "code",
   "execution_count": 100,
   "metadata": {},
   "outputs": [
    {
     "name": "stdout",
     "output_type": "stream",
     "text": [
      "‭‎‭‬‭‎‌‬‬‬‭‬‎‭‌‌‭‎‌‬‬‎‭‬‭‌‌‌‭‎‎‌‌‭‭‬‭‌‌‎‭‎‭‌‭‎‭‬‎‭‌‭‭‎‎‌‌‭‭‬‌‎‬‎‭‎‌‬‬‬‭‬‎‭‌‬‭‎‬‬‎‬‭‬‎‭‌‌‭‎‭‌‭‎‭‬‎‭‭‎‭‎‭‌‭‎‭‬‬‎‎‭‭‎‎‌‌‎‭‬‭‌‎‭‭‎‭‭‌‬‭‬‭‭‭‬‭‎‭‭‌‬‭‌‭‎‭‭‭‎‭‌‭‎‭‬‭‌‎‬‭‎‎‌‌‬‭‬‭‌‭‎‭‎‎‌‌‭\n"
     ]
    }
   ],
   "source": [
    "HM = HM_SK + HM_ZWC\n",
    "print(HM)"
   ]
  },
  {
   "cell_type": "code",
   "execution_count": 101,
   "metadata": {},
   "outputs": [
    {
     "name": "stdout",
     "output_type": "stream",
     "text": [
      "cover message I want to hide the secret message i‭‎‭‬‭‎‌‬‬‬‭‬‎‭‌‌‭‎‌‬‬‎‭‬‭‌‌‌‭‎‎‌‌‭‭‬‭‌‌‎‭‎‭‌‭‎‭‬‎‭‌‭‭‎‎‌‌‭‭‬‌‎‬‎‭‎‌‬‬‬‭‬‎‭‌‬‭‎‬‬‎‬‭‬‎‭‌‌‭‎‭‌‭‎‭‬‎‭‭‎‭‎‭‌‭‎‭‬‬‎‎‭‭‎‎‌‌‎‭‬‭‌‎‭‭‎‭‭‌‬‭‬‭‭‭‬‭‎‭‭‌‬‭‌‭‎‭‭‭‎‭‌‭‎‭‬‭‌‎‬‭‎‎‌‌‬‭‬‭‌‭‎‭‎‎‌‌‭n\n",
      "228\n",
      "50\n"
     ]
    }
   ],
   "source": [
    "CM_HM = CM[:-1] + HM + CM[-1]\n",
    "print(CM_HM)\n",
    "print(len(CM_HM))\n",
    "print(len(CM))"
   ]
  },
  {
   "cell_type": "markdown",
   "metadata": {},
   "source": [
    "MESSAGE EXTRACTION"
   ]
  },
  {
   "cell_type": "code",
   "execution_count": 102,
   "metadata": {},
   "outputs": [
    {
     "name": "stdout",
     "output_type": "stream",
     "text": [
      "185\n"
     ]
    }
   ],
   "source": [
    "MR_SK = int(time.strftime(\"%H%M\", time.localtime())[:3])\n",
    "print(MR_SK)\n",
    "# MR_SK =MS_SK"
   ]
  },
  {
   "cell_type": "code",
   "execution_count": 103,
   "metadata": {},
   "outputs": [],
   "source": [
    "ZWC_reverse={u'\\u200C':\"00\",u'\\u202C':\"01\",u'\\u202D':\"10\",u'\\u200E':\"11\"}\n"
   ]
  },
  {
   "cell_type": "code",
   "execution_count": 104,
   "metadata": {},
   "outputs": [],
   "source": [
    "hashed_SM_binary_extract=\"\""
   ]
  },
  {
   "cell_type": "code",
   "execution_count": 105,
   "metadata": {},
   "outputs": [
    {
     "name": "stdout",
     "output_type": "stream",
     "text": [
      "10 11 10 01 10 11 00 01 01 01 10 01 11 10 00 00 10 11 00 01 01 11 10 01 10 00 00 00 10 11 11 00 00 10 10 01 10 00 00 11 10 11 10 00 10 11 10 01 11 10 00 10 10 11 11 00 00 10 10 01 00 11 01 11 10 11 00 01 01 01 10 01 11 10 00 01 10 11 01 01 11 01 10 01 11 10 00 00 10 11 10 00 10 11 10 01 11 10 10 11 10 11 10 00 10 11 10 01 01 11 11 10 10 11 11 00 00 11 10 01 10 00 11 10 10 11 10 10 00 01 10 01 10 10 10 01 10 11 10 10 00 01 10 00 10 11 10 10 10 11 10 00 10 11 10 01 10 00 11 01 10 11 11 00 00 01 10 01 10 00 10 11 10 11 11 00 00 10 "
     ]
    }
   ],
   "source": [
    "for letter in CM_HM:\n",
    "    if(letter in ZWC_reverse):\n",
    "        print(ZWC_reverse[letter], end=' ')\n",
    "        hashed_SM_binary_extract += ZWC_reverse[letter]\n",
    "        \n",
    "MS_SK_extract=hashed_SM_binary_extract[0:8]\n",
    "MR_SK_binary='{0:08b}'.format(int(MR_SK))\n",
    "\n"
   ]
  },
  {
   "cell_type": "code",
   "execution_count": 106,
   "metadata": {},
   "outputs": [],
   "source": [
    "SM_extract=\"\""
   ]
  },
  {
   "cell_type": "code",
   "execution_count": 107,
   "metadata": {},
   "outputs": [
    {
     "name": "stdout",
     "output_type": "stream",
     "text": [
      "10111001\n",
      "10111001\n"
     ]
    }
   ],
   "source": [
    "print(MS_SK_extract)\n",
    "print(MR_SK_binary)"
   ]
  },
  {
   "cell_type": "code",
   "execution_count": 108,
   "metadata": {},
   "outputs": [
    {
     "name": "stdout",
     "output_type": "stream",
     "text": [
      "Encrypted secret message received: secret message I want to hide\n"
     ]
    }
   ],
   "source": [
    "if(MS_SK_extract==MR_SK_binary):\n",
    "    hashed_SM_binary_extract=hashed_SM_binary_extract[8:]\n",
    "    LSK_extract=len(MR_SK_binary)\n",
    "    if((len(hashed_SM_binary_extract)%LSK_extract)==0):\n",
    "        P=0\n",
    "    else:\n",
    "        P=1\n",
    "    NC_extract= int((len(hashed_SM_binary_extract)/LSK_extract)+P)\n",
    "    hash_position_bits_extract=NC_extract*MR_SK_binary\n",
    "    SM_binary_extract=my_xor(hashed_SM_binary_extract,hash_position_bits_extract,len(hashed_SM_binary_extract))\n",
    "\n",
    "    while(len(SM_binary_extract)>=12):\n",
    "        alpha_beta=SM_binary_extract[0:12]\n",
    "        SM_binary_extract=SM_binary_extract[12:]\n",
    "        alpha_extract=alpha_beta[0:6]\n",
    "        beta_extract=alpha_beta[6:12]\n",
    "\n",
    "        #conversion to decimal\n",
    "        alpha_final=int(alpha_extract,2)\n",
    "        beta_final=int(beta_extract,2)\n",
    "        n_final=((pow(2,alpha_final)*(2*beta_final+1))-1)\n",
    "        SM_extract=SM_extract+chr(n_final)\n",
    "    print(\"Encrypted secret message received:\",SM_extract)\n"
   ]
  }
 ],
 "metadata": {
  "kernelspec": {
   "display_name": "venv",
   "language": "python",
   "name": "python3"
  },
  "language_info": {
   "codemirror_mode": {
    "name": "ipython",
    "version": 3
   },
   "file_extension": ".py",
   "mimetype": "text/x-python",
   "name": "python",
   "nbconvert_exporter": "python",
   "pygments_lexer": "ipython3",
   "version": "3.11.2"
  }
 },
 "nbformat": 4,
 "nbformat_minor": 2
}
