{
 "cells": [
  {
   "cell_type": "code",
   "execution_count": 1,
   "metadata": {},
   "outputs": [],
   "source": [
    "import pandas as pd\n",
    "import random\n",
    "import string"
   ]
  },
  {
   "cell_type": "code",
   "execution_count": 2,
   "metadata": {},
   "outputs": [],
   "source": [
    "def generate_alphabet_tuples():\n",
    "    return [(chr(i), []) for i in range(ord('a'), ord('z')+1)]\n"
   ]
  },
  {
   "cell_type": "code",
   "execution_count": 4,
   "metadata": {},
   "outputs": [],
   "source": [
    "def generate_character_mapping():\n",
    "    alphabet_tuples = generate_alphabet_tuples()\n",
    "    for i in range(8):\n",
    "        ascii_low = string.ascii_lowercase\n",
    "        for t in alphabet_tuples:\n",
    "            c =  random.choice(ascii_low)\n",
    "            t[1].append(c)\n",
    "            ascii_low =ascii_low.replace(c,'')\n",
    "    \n",
    "    \n",
    "    return alphabet_tuples"
   ]
  },
  {
   "cell_type": "code",
   "execution_count": 5,
   "metadata": {},
   "outputs": [],
   "source": [
    "alphabet_tuples = generate_character_mapping()"
   ]
  },
  {
   "cell_type": "code",
   "execution_count": 5,
   "metadata": {},
   "outputs": [
    {
     "data": {
      "text/plain": [
       "[('a', ['a', 'x', 'j', 'm', 'b', 'f', 'p', 's']),\n",
       " ('b', ['q', 'g', 'a', 'h', 'z', 'x', 'z', 'a']),\n",
       " ('c', ['e', 'c', 'k', 'd', 'q', 'n', 'l', 'h']),\n",
       " ('d', ['d', 'z', 'z', 's', 'g', 's', 'n', 'c']),\n",
       " ('e', ['p', 't', 'm', 'b', 's', 'r', 'b', 'f']),\n",
       " ('f', ['n', 'y', 'h', 'p', 'n', 'u', 'y', 'r']),\n",
       " ('g', ['u', 'q', 's', 'q', 'e', 'g', 'k', 'z']),\n",
       " ('h', ['h', 'j', 'q', 'w', 'y', 'v', 'h', 'b']),\n",
       " ('i', ['z', 'a', 'u', 'v', 'r', 'z', 'm', 'k']),\n",
       " ('j', ['g', 'f', 'o', 'o', 'k', 'o', 'f', 'p']),\n",
       " ('k', ['r', 'r', 'c', 'f', 'h', 'a', 'c', 'n']),\n",
       " ('l', ['v', 'o', 'v', 'n', 'c', 'l', 'i', 'i']),\n",
       " ('m', ['j', 'w', 'x', 'a', 'u', 'j', 'j', 'y']),\n",
       " ('n', ['c', 'd', 'n', 'k', 'j', 'y', 'e', 't']),\n",
       " ('o', ['s', 'p', 'p', 'j', 'm', 'e', 'w', 'j']),\n",
       " ('p', ['o', 's', 'b', 'r', 'w', 'w', 'd', 'q']),\n",
       " ('q', ['w', 'u', 'g', 'u', 'x', 'i', 'v', 'g']),\n",
       " ('r', ['i', 'l', 'r', 'z', 'o', 'b', 's', 'o']),\n",
       " ('s', ['m', 'e', 'i', 'e', 'a', 'p', 'g', 'x']),\n",
       " ('t', ['y', 'i', 'w', 'g', 'd', 'm', 'r', 'w']),\n",
       " ('u', ['l', 'm', 'y', 'i', 'f', 'd', 'x', 'm']),\n",
       " ('v', ['b', 'h', 'f', 'c', 't', 'c', 'o', 'e']),\n",
       " ('w', ['t', 'v', 't', 'l', 'i', 't', 'u', 'v']),\n",
       " ('x', ['x', 'k', 'e', 't', 'p', 'h', 't', 'l']),\n",
       " ('y', ['k', 'n', 'l', 'x', 'v', 'q', 'a', 'd']),\n",
       " ('z', ['f', 'b', 'd', 'y', 'l', 'k', 'q', 'u'])]"
      ]
     },
     "execution_count": 5,
     "metadata": {},
     "output_type": "execute_result"
    }
   ],
   "source": [
    "alphabet_tuples"
   ]
  },
  {
   "cell_type": "markdown",
   "metadata": {},
   "source": [
    "## change to dataframe "
   ]
  },
  {
   "cell_type": "code",
   "execution_count": 9,
   "metadata": {},
   "outputs": [],
   "source": [
    "def generate_alphabet_df():\n",
    "    # dataframe with indexes from 'a' to 'z' and columns 'value_1' to 'value_8'\n",
    "    alphabet_df = pd.DataFrame(index=[chr(i) for i in range(ord('a'), ord('z')+1)], \n",
    "                               columns=['column_'+str(i) for i in range(1,8)])\n",
    "    alphabet_df.index.name = \"char_mapped\"\n",
    "    \n",
    "    \n",
    "    for each_column in alphabet_df.columns:\n",
    "        ascii_low = string.ascii_lowercase\n",
    "        for each_index in alphabet_df.index:\n",
    "            c = random.choice(ascii_low)\n",
    "            alphabet_df.loc[each_index, each_column] = c\n",
    "            ascii_low = ascii_low.replace(c,'')\n",
    "            \n",
    "    alphabet_df.reset_index(level=0, inplace=True)\n",
    "            \n",
    "    return alphabet_df"
   ]
  },
  {
   "cell_type": "code",
   "execution_count": 10,
   "metadata": {},
   "outputs": [],
   "source": [
    "alphabet_df = generate_alphabet_df()\n"
   ]
  },
  {
   "cell_type": "code",
   "execution_count": 11,
   "metadata": {},
   "outputs": [
    {
     "name": "stdout",
     "output_type": "stream",
     "text": [
      "   char_mapped column_1 column_2 column_3 column_4 column_5 column_6 column_7\n",
      "0            a        u        s        b        n        f        f        x\n",
      "1            b        i        c        c        o        v        b        w\n",
      "2            c        m        z        l        m        k        q        l\n",
      "3            d        s        v        j        a        n        l        h\n",
      "4            e        n        p        v        g        p        j        p\n",
      "5            f        p        r        k        x        r        r        y\n",
      "6            g        d        q        z        v        b        i        t\n",
      "7            h        e        d        x        q        u        c        j\n",
      "8            i        x        n        g        p        d        n        r\n",
      "9            j        j        h        r        z        y        m        u\n",
      "10           k        k        m        s        e        s        t        n\n",
      "11           l        r        u        f        r        t        a        d\n",
      "12           m        b        e        d        l        a        h        k\n",
      "13           n        a        w        n        j        m        y        v\n",
      "14           o        g        k        u        u        q        z        q\n",
      "15           p        f        g        o        b        e        d        f\n",
      "16           q        t        t        e        t        x        u        m\n",
      "17           r        o        y        y        d        l        k        i\n",
      "18           s        q        a        i        k        c        v        z\n",
      "19           t        v        f        h        i        z        s        a\n",
      "20           u        w        l        t        y        i        w        g\n",
      "21           v        h        o        q        f        j        o        s\n",
      "22           w        l        b        a        w        g        p        e\n",
      "23           x        y        i        p        h        w        e        c\n",
      "24           y        c        x        w        c        o        g        o\n",
      "25           z        z        j        m        s        h        x        b\n"
     ]
    }
   ],
   "source": [
    "print(alphabet_df)"
   ]
  },
  {
   "cell_type": "code",
   "execution_count": 9,
   "metadata": {},
   "outputs": [],
   "source": [
    "def shift_single_column(df, column_name, shift_value =1):\n",
    "    column_to_shift = df[column_name]\n",
    "    \n",
    "    lost_values = column_to_shift[-shift_value:]\n",
    "    \n",
    "    shifted_column = df[column_name].shift(shift_value)\n",
    "   \n",
    "    df[column_name] = pd.concat([lost_values, shifted_column[shift_value:]]).reset_index(drop=True)\n",
    "\n",
    "    return df\n"
   ]
  },
  {
   "cell_type": "code",
   "execution_count": 10,
   "metadata": {},
   "outputs": [],
   "source": [
    "alphabet_df_shifted = shift_single_column(alphabet_df, 'column_1')"
   ]
  },
  {
   "cell_type": "code",
   "execution_count": 11,
   "metadata": {},
   "outputs": [
    {
     "data": {
      "text/html": [
       "<div>\n",
       "<style scoped>\n",
       "    .dataframe tbody tr th:only-of-type {\n",
       "        vertical-align: middle;\n",
       "    }\n",
       "\n",
       "    .dataframe tbody tr th {\n",
       "        vertical-align: top;\n",
       "    }\n",
       "\n",
       "    .dataframe thead th {\n",
       "        text-align: right;\n",
       "    }\n",
       "</style>\n",
       "<table border=\"1\" class=\"dataframe\">\n",
       "  <thead>\n",
       "    <tr style=\"text-align: right;\">\n",
       "      <th></th>\n",
       "      <th>char_mapped</th>\n",
       "      <th>column_1</th>\n",
       "      <th>column_2</th>\n",
       "    </tr>\n",
       "  </thead>\n",
       "  <tbody>\n",
       "    <tr>\n",
       "      <th>0</th>\n",
       "      <td>a</td>\n",
       "      <td>v</td>\n",
       "      <td>s</td>\n",
       "    </tr>\n",
       "    <tr>\n",
       "      <th>1</th>\n",
       "      <td>b</td>\n",
       "      <td>j</td>\n",
       "      <td>b</td>\n",
       "    </tr>\n",
       "    <tr>\n",
       "      <th>2</th>\n",
       "      <td>c</td>\n",
       "      <td>h</td>\n",
       "      <td>o</td>\n",
       "    </tr>\n",
       "    <tr>\n",
       "      <th>3</th>\n",
       "      <td>d</td>\n",
       "      <td>t</td>\n",
       "      <td>g</td>\n",
       "    </tr>\n",
       "  </tbody>\n",
       "</table>\n",
       "</div>"
      ],
      "text/plain": [
       "  char_mapped column_1 column_2\n",
       "0           a        v        s\n",
       "1           b        j        b\n",
       "2           c        h        o\n",
       "3           d        t        g"
      ]
     },
     "execution_count": 11,
     "metadata": {},
     "output_type": "execute_result"
    }
   ],
   "source": [
    "alphabet_df_shifted"
   ]
  },
  {
   "cell_type": "markdown",
   "metadata": {},
   "source": [
    "## shift columns to achieve no repetition in rows"
   ]
  },
  {
   "cell_type": "code",
   "execution_count": 12,
   "metadata": {},
   "outputs": [],
   "source": [
    "data = {\n",
    "    'char_mapped': ['a', 'b', 'c', 'd'],\n",
    "    'column_1': ['i', 'z', 'l', 'v'],\n",
    "    'column_2': ['i', 'l', 'w', 'r'],\n",
    "    'column_3': ['g', 'h', 'o', 'y'],\n",
    "    'column_4': ['g', 'i', 'k', 'o'],\n",
    "    'column_5': ['g', 'b', 'c', 'd'],\n",
    "}\n",
    "\n",
    "df = pd.DataFrame(data)"
   ]
  },
  {
   "cell_type": "code",
   "execution_count": 13,
   "metadata": {},
   "outputs": [
    {
     "data": {
      "text/html": [
       "<div>\n",
       "<style scoped>\n",
       "    .dataframe tbody tr th:only-of-type {\n",
       "        vertical-align: middle;\n",
       "    }\n",
       "\n",
       "    .dataframe tbody tr th {\n",
       "        vertical-align: top;\n",
       "    }\n",
       "\n",
       "    .dataframe thead th {\n",
       "        text-align: right;\n",
       "    }\n",
       "</style>\n",
       "<table border=\"1\" class=\"dataframe\">\n",
       "  <thead>\n",
       "    <tr style=\"text-align: right;\">\n",
       "      <th></th>\n",
       "      <th>char_mapped</th>\n",
       "      <th>column_1</th>\n",
       "      <th>column_2</th>\n",
       "      <th>column_3</th>\n",
       "      <th>column_4</th>\n",
       "      <th>column_5</th>\n",
       "    </tr>\n",
       "  </thead>\n",
       "  <tbody>\n",
       "    <tr>\n",
       "      <th>0</th>\n",
       "      <td>a</td>\n",
       "      <td>i</td>\n",
       "      <td>i</td>\n",
       "      <td>g</td>\n",
       "      <td>g</td>\n",
       "      <td>g</td>\n",
       "    </tr>\n",
       "    <tr>\n",
       "      <th>1</th>\n",
       "      <td>b</td>\n",
       "      <td>z</td>\n",
       "      <td>l</td>\n",
       "      <td>h</td>\n",
       "      <td>i</td>\n",
       "      <td>b</td>\n",
       "    </tr>\n",
       "    <tr>\n",
       "      <th>2</th>\n",
       "      <td>c</td>\n",
       "      <td>l</td>\n",
       "      <td>w</td>\n",
       "      <td>o</td>\n",
       "      <td>k</td>\n",
       "      <td>c</td>\n",
       "    </tr>\n",
       "    <tr>\n",
       "      <th>3</th>\n",
       "      <td>d</td>\n",
       "      <td>v</td>\n",
       "      <td>r</td>\n",
       "      <td>y</td>\n",
       "      <td>o</td>\n",
       "      <td>d</td>\n",
       "    </tr>\n",
       "  </tbody>\n",
       "</table>\n",
       "</div>"
      ],
      "text/plain": [
       "  char_mapped column_1 column_2 column_3 column_4 column_5\n",
       "0           a        i        i        g        g        g\n",
       "1           b        z        l        h        i        b\n",
       "2           c        l        w        o        k        c\n",
       "3           d        v        r        y        o        d"
      ]
     },
     "execution_count": 13,
     "metadata": {},
     "output_type": "execute_result"
    }
   ],
   "source": [
    "df"
   ]
  },
  {
   "cell_type": "code",
   "execution_count": 14,
   "metadata": {},
   "outputs": [
    {
     "data": {
      "text/plain": [
       "1"
      ]
     },
     "execution_count": 14,
     "metadata": {},
     "output_type": "execute_result"
    }
   ],
   "source": [
    "df.columns[1:]\n",
    "# get index of the column by name\n",
    "column_index = df.columns.get_loc('column_1')\n",
    "column_index"
   ]
  },
  {
   "cell_type": "code",
   "execution_count": 15,
   "metadata": {},
   "outputs": [
    {
     "data": {
      "text/plain": [
       "'column_1'"
      ]
     },
     "execution_count": 15,
     "metadata": {},
     "output_type": "execute_result"
    }
   ],
   "source": [
    "# one random column\n",
    "column_name = random.choice(df.columns[1:])\n",
    "column_name"
   ]
  },
  {
   "cell_type": "code",
   "execution_count": 16,
   "metadata": {},
   "outputs": [],
   "source": [
    "def move_columns(df,column, column_to_change):\n",
    "    \"\"\"Function shifts the values of a column in one column, so there will be no same characters in the same row.\n",
    "       Function should return df with columns with no same characters in the same row.\n",
    "    \"\"\"\n",
    "    iter = 0\n",
    "    was_shifted = False\n",
    "    \n",
    "    while any(df[column] == df[column_to_change]):\n",
    "        print(f\"Column {column} has same values as {column_to_change}\")\n",
    "        df = shift_single_column(df, column_to_change)\n",
    "        was_shifted = True\n",
    "        iter += 1\n",
    "        if iter > 100:\n",
    "            print(\"Too many iterations, breaking out of the loop.\")\n",
    "            break\n",
    "    \n",
    "    return df, was_shifted"
   ]
  },
  {
   "cell_type": "code",
   "execution_count": 17,
   "metadata": {},
   "outputs": [],
   "source": [
    "def fix_repetition_for_one_column(df,  column_to_change, iter):\n",
    "    was_shifted = False\n",
    "    for column in df.columns[1:iter]:\n",
    "        print(f\"Checking column {column} for repetition with {column_to_change}\")\n",
    "        if column == column_to_change: #necessary to skip the column that is being changed\n",
    "            continue\n",
    "        df , was_shifted = move_columns(df,column, column_to_change)\n",
    "\n",
    "    return df, was_shifted"
   ]
  },
  {
   "cell_type": "code",
   "execution_count": null,
   "metadata": {},
   "outputs": [],
   "source": [
    "def fix_repetition(df):\n",
    "    \"\"\"Function iterates over all columns comparing them and shifting the values; after shift it begins comparing columns from the start\"\"\"\n",
    "    iter = -1*len(df.columns[2:])\n",
    "    \n",
    "    was_shifted = True\n",
    "    # skip char_mapped and first column and fix repetition in the rest of the columns\n",
    "    for column_to_change in df.columns[2:]:\n",
    "        while was_shifted:\n",
    "            was_shifted = False\n",
    "            df, was_shifted =fix_repetition_for_one_column(df,  column_to_change, iter)\n",
    "            print(column_to_change)\n",
    "            \n",
    "        iter += 1\n",
    "        was_shifted = True\n",
    "\n",
    "    return df"
   ]
  },
  {
   "cell_type": "code",
   "execution_count": 19,
   "metadata": {},
   "outputs": [
    {
     "name": "stdout",
     "output_type": "stream",
     "text": [
      "  char_mapped column_1 column_2 column_3 column_4 column_5\n",
      "0           a        i        i        g        g        g\n",
      "1           b        z        l        h        i        b\n",
      "2           c        l        w        o        k        c\n",
      "3           d        v        r        y        o        d\n"
     ]
    }
   ],
   "source": [
    "print(df)"
   ]
  },
  {
   "cell_type": "code",
   "execution_count": null,
   "metadata": {},
   "outputs": [],
   "source": []
  },
  {
   "cell_type": "code",
   "execution_count": 20,
   "metadata": {},
   "outputs": [
    {
     "name": "stdout",
     "output_type": "stream",
     "text": [
      "Checking column column_1 for repetition with column_2\n",
      "Column column_1 has same values as column_2\n",
      "Column column_1 has same values as column_2\n",
      "column_2\n",
      "Checking column column_1 for repetition with column_2\n",
      "column_2\n",
      "Checking column column_1 for repetition with column_3\n",
      "Checking column column_2 for repetition with column_3\n",
      "column_3\n",
      "Checking column column_1 for repetition with column_4\n",
      "Checking column column_2 for repetition with column_4\n",
      "Checking column column_3 for repetition with column_4\n",
      "Column column_3 has same values as column_4\n",
      "column_4\n",
      "Checking column column_1 for repetition with column_4\n",
      "Checking column column_2 for repetition with column_4\n",
      "Column column_2 has same values as column_4\n",
      "Checking column column_3 for repetition with column_4\n",
      "column_4\n",
      "Checking column column_1 for repetition with column_5\n",
      "Checking column column_2 for repetition with column_5\n",
      "Checking column column_3 for repetition with column_5\n",
      "Column column_3 has same values as column_5\n",
      "Checking column column_4 for repetition with column_5\n",
      "column_5\n"
     ]
    }
   ],
   "source": [
    "df_fixed = fix_repetition(df)\n"
   ]
  },
  {
   "cell_type": "code",
   "execution_count": 21,
   "metadata": {},
   "outputs": [
    {
     "name": "stdout",
     "output_type": "stream",
     "text": [
      "  char_mapped column_1 column_2 column_3 column_4 column_5\n",
      "0           a        i        w        g        k        d\n",
      "1           b        z        r        h        o        g\n",
      "2           c        l        i        o        g        b\n",
      "3           d        v        l        y        i        c\n"
     ]
    }
   ],
   "source": [
    "print(df_fixed)"
   ]
  },
  {
   "cell_type": "code",
   "execution_count": 22,
   "metadata": {},
   "outputs": [
    {
     "name": "stdout",
     "output_type": "stream",
     "text": [
      "6\n"
     ]
    }
   ],
   "source": [
    "\n",
    "num_columns = len(df.columns)\n",
    "print(num_columns)"
   ]
  }
 ],
 "metadata": {
  "kernelspec": {
   "display_name": "venv",
   "language": "python",
   "name": "python3"
  },
  "language_info": {
   "codemirror_mode": {
    "name": "ipython",
    "version": 3
   },
   "file_extension": ".py",
   "mimetype": "text/x-python",
   "name": "python",
   "nbconvert_exporter": "python",
   "pygments_lexer": "ipython3",
   "version": "3.13.2"
  }
 },
 "nbformat": 4,
 "nbformat_minor": 2
}
