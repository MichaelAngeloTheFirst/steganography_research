{
 "cells": [
  {
   "cell_type": "code",
   "execution_count": 611,
   "metadata": {},
   "outputs": [],
   "source": [
    "import pandas as pd\n",
    "import random\n",
    "import string"
   ]
  },
  {
   "cell_type": "code",
   "execution_count": 612,
   "metadata": {},
   "outputs": [],
   "source": [
    "def generate_alphabet_tuples():\n",
    "    return [(chr(i), []) for i in range(ord('a'), ord('z')+1)]\n"
   ]
  },
  {
   "cell_type": "code",
   "execution_count": 613,
   "metadata": {},
   "outputs": [],
   "source": [
    "def generate_character_mapping():\n",
    "    alphabet_tuples = generate_alphabet_tuples()\n",
    "    for i in range(8):\n",
    "        ascii_low = string.ascii_lowercase\n",
    "        for t in alphabet_tuples:\n",
    "            c =  random.choice(ascii_low)\n",
    "            t[1].append(c)\n",
    "            ascii_low =ascii_low.replace(c,'')\n",
    "    \n",
    "    \n",
    "    return alphabet_tuples"
   ]
  },
  {
   "cell_type": "code",
   "execution_count": 614,
   "metadata": {},
   "outputs": [],
   "source": [
    "alphabet_tuples = generate_character_mapping()"
   ]
  },
  {
   "cell_type": "code",
   "execution_count": 615,
   "metadata": {},
   "outputs": [
    {
     "data": {
      "text/plain": [
       "[('a', ['x', 'l', 'g', 'j', 'q', 'j', 't', 'd']),\n",
       " ('b', ['a', 'e', 'p', 'p', 'b', 'w', 'e', 'j']),\n",
       " ('c', ['b', 'v', 'q', 'b', 'v', 't', 'p', 'h']),\n",
       " ('d', ['t', 'i', 'x', 'w', 'h', 'u', 'd', 'e']),\n",
       " ('e', ['m', 'm', 'a', 'n', 'z', 'i', 'n', 'g']),\n",
       " ('f', ['j', 'b', 'n', 'h', 'c', 'c', 'y', 'o']),\n",
       " ('g', ['v', 'n', 'y', 'q', 'p', 'r', 'r', 'i']),\n",
       " ('h', ['s', 's', 'e', 'k', 't', 'h', 'k', 'n']),\n",
       " ('i', ['c', 'x', 'v', 'u', 'e', 'b', 'c', 'a']),\n",
       " ('j', ['h', 'z', 'f', 's', 's', 'q', 'z', 'c']),\n",
       " ('k', ['y', 'u', 'm', 'o', 'd', 'v', 'a', 's']),\n",
       " ('l', ['w', 'd', 'o', 'x', 'w', 'o', 'g', 'v']),\n",
       " ('m', ['f', 'w', 'j', 'f', 'g', 'd', 'h', 'z']),\n",
       " ('n', ['n', 'q', 'c', 'm', 'y', 'x', 'q', 'y']),\n",
       " ('o', ['k', 't', 'k', 'a', 'u', 'n', 'm', 'q']),\n",
       " ('p', ['q', 'h', 'd', 'l', 'k', 's', 'j', 'p']),\n",
       " ('q', ['o', 'k', 'b', 'd', 'a', 'm', 'f', 't']),\n",
       " ('r', ['i', 'o', 'h', 't', 'l', 'l', 's', 'k']),\n",
       " ('s', ['u', 'r', 's', 'c', 'o', 'e', 'l', 'l']),\n",
       " ('t', ['p', 'j', 'w', 'r', 'r', 'k', 'w', 'm']),\n",
       " ('u', ['e', 'y', 'l', 'y', 'i', 'p', 'b', 'u']),\n",
       " ('v', ['g', 'g', 'z', 'g', 'j', 'a', 'v', 'x']),\n",
       " ('w', ['d', 'f', 'r', 'z', 'm', 'g', 'o', 'r']),\n",
       " ('x', ['r', 'c', 't', 'e', 'n', 'f', 'i', 'f']),\n",
       " ('y', ['z', 'p', 'i', 'i', 'x', 'z', 'u', 'b']),\n",
       " ('z', ['l', 'a', 'u', 'v', 'f', 'y', 'x', 'w'])]"
      ]
     },
     "execution_count": 615,
     "metadata": {},
     "output_type": "execute_result"
    }
   ],
   "source": [
    "alphabet_tuples"
   ]
  },
  {
   "cell_type": "markdown",
   "metadata": {},
   "source": [
    "## change to dataframe "
   ]
  },
  {
   "cell_type": "code",
   "execution_count": 616,
   "metadata": {},
   "outputs": [],
   "source": [
    "def generate_alphabet_df():\n",
    "    # dataframe with indexes from 'a' to 'z' and columns 'value_1' to 'value_8'\n",
    "    alphabet_df = pd.DataFrame(index=[chr(i) for i in range(ord('a'), ord('d')+1)], \n",
    "                               columns=['column_'+str(i) for i in range(1,3)])\n",
    "    alphabet_df.index.name = \"carrier_letter\"\n",
    "    \n",
    "    \n",
    "    for each_column in alphabet_df.columns:\n",
    "        ascii_low = string.ascii_lowercase\n",
    "        for each_index in alphabet_df.index:\n",
    "            c = random.choice(ascii_low)\n",
    "            alphabet_df.loc[each_index, each_column] = c\n",
    "            ascii_low = ascii_low.replace(c,'')\n",
    "            \n",
    "    alphabet_df.reset_index(level=0, inplace=True)\n",
    "            \n",
    "    return alphabet_df"
   ]
  },
  {
   "cell_type": "code",
   "execution_count": 617,
   "metadata": {},
   "outputs": [],
   "source": [
    "alphabet_df = generate_alphabet_df()\n"
   ]
  },
  {
   "cell_type": "code",
   "execution_count": 618,
   "metadata": {},
   "outputs": [
    {
     "name": "stdout",
     "output_type": "stream",
     "text": [
      "  carrier_letter column_1 column_2\n",
      "0              a        f        q\n",
      "1              b        i        n\n",
      "2              c        q        x\n",
      "3              d        y        g\n"
     ]
    }
   ],
   "source": [
    "print(alphabet_df)"
   ]
  },
  {
   "cell_type": "code",
   "execution_count": 619,
   "metadata": {},
   "outputs": [],
   "source": [
    "def shift_single_column(df, column_name, shift_value =1):\n",
    "    column_to_shift = df[column_name]\n",
    "    \n",
    "    lost_values = column_to_shift[-shift_value:]\n",
    "    \n",
    "    shifted_column = df[column_name].shift(shift_value)\n",
    "   \n",
    "    df[column_name] = pd.concat([lost_values, shifted_column[shift_value:]]).reset_index(drop=True)\n",
    "\n",
    "    return df\n"
   ]
  },
  {
   "cell_type": "code",
   "execution_count": 620,
   "metadata": {},
   "outputs": [],
   "source": [
    "alphabet_df_shifted = shift_single_column(alphabet_df, 'column_1')"
   ]
  },
  {
   "cell_type": "code",
   "execution_count": 621,
   "metadata": {},
   "outputs": [
    {
     "data": {
      "text/html": [
       "<div>\n",
       "<style scoped>\n",
       "    .dataframe tbody tr th:only-of-type {\n",
       "        vertical-align: middle;\n",
       "    }\n",
       "\n",
       "    .dataframe tbody tr th {\n",
       "        vertical-align: top;\n",
       "    }\n",
       "\n",
       "    .dataframe thead th {\n",
       "        text-align: right;\n",
       "    }\n",
       "</style>\n",
       "<table border=\"1\" class=\"dataframe\">\n",
       "  <thead>\n",
       "    <tr style=\"text-align: right;\">\n",
       "      <th></th>\n",
       "      <th>carrier_letter</th>\n",
       "      <th>column_1</th>\n",
       "      <th>column_2</th>\n",
       "    </tr>\n",
       "  </thead>\n",
       "  <tbody>\n",
       "    <tr>\n",
       "      <th>0</th>\n",
       "      <td>a</td>\n",
       "      <td>y</td>\n",
       "      <td>q</td>\n",
       "    </tr>\n",
       "    <tr>\n",
       "      <th>1</th>\n",
       "      <td>b</td>\n",
       "      <td>f</td>\n",
       "      <td>n</td>\n",
       "    </tr>\n",
       "    <tr>\n",
       "      <th>2</th>\n",
       "      <td>c</td>\n",
       "      <td>i</td>\n",
       "      <td>x</td>\n",
       "    </tr>\n",
       "    <tr>\n",
       "      <th>3</th>\n",
       "      <td>d</td>\n",
       "      <td>q</td>\n",
       "      <td>g</td>\n",
       "    </tr>\n",
       "  </tbody>\n",
       "</table>\n",
       "</div>"
      ],
      "text/plain": [
       "  carrier_letter column_1 column_2\n",
       "0              a        y        q\n",
       "1              b        f        n\n",
       "2              c        i        x\n",
       "3              d        q        g"
      ]
     },
     "execution_count": 621,
     "metadata": {},
     "output_type": "execute_result"
    }
   ],
   "source": [
    "alphabet_df_shifted"
   ]
  },
  {
   "cell_type": "markdown",
   "metadata": {},
   "source": [
    "## shift columns to achieve no repetition in rows"
   ]
  },
  {
   "cell_type": "code",
   "execution_count": 622,
   "metadata": {},
   "outputs": [],
   "source": [
    "data = {\n",
    "    'carrier_letter': ['a', 'b', 'c', 'd'],\n",
    "    'column_1': ['i', 'z', 'l', 'v'],\n",
    "    'column_2': ['i', 'l', 'w', 'r'],\n",
    "    'column_3': ['g', 'h', 'o', 'y'],\n",
    "    'column_4': ['g', 'i', 'k', 'o'],\n",
    "    'column_5': ['g', 'b', 'c', 'd'],\n",
    "}\n",
    "\n",
    "df = pd.DataFrame(data)"
   ]
  },
  {
   "cell_type": "code",
   "execution_count": 623,
   "metadata": {},
   "outputs": [
    {
     "data": {
      "text/html": [
       "<div>\n",
       "<style scoped>\n",
       "    .dataframe tbody tr th:only-of-type {\n",
       "        vertical-align: middle;\n",
       "    }\n",
       "\n",
       "    .dataframe tbody tr th {\n",
       "        vertical-align: top;\n",
       "    }\n",
       "\n",
       "    .dataframe thead th {\n",
       "        text-align: right;\n",
       "    }\n",
       "</style>\n",
       "<table border=\"1\" class=\"dataframe\">\n",
       "  <thead>\n",
       "    <tr style=\"text-align: right;\">\n",
       "      <th></th>\n",
       "      <th>carrier_letter</th>\n",
       "      <th>column_1</th>\n",
       "      <th>column_2</th>\n",
       "      <th>column_3</th>\n",
       "      <th>column_4</th>\n",
       "      <th>column_5</th>\n",
       "    </tr>\n",
       "  </thead>\n",
       "  <tbody>\n",
       "    <tr>\n",
       "      <th>0</th>\n",
       "      <td>a</td>\n",
       "      <td>i</td>\n",
       "      <td>i</td>\n",
       "      <td>g</td>\n",
       "      <td>g</td>\n",
       "      <td>g</td>\n",
       "    </tr>\n",
       "    <tr>\n",
       "      <th>1</th>\n",
       "      <td>b</td>\n",
       "      <td>z</td>\n",
       "      <td>l</td>\n",
       "      <td>h</td>\n",
       "      <td>i</td>\n",
       "      <td>b</td>\n",
       "    </tr>\n",
       "    <tr>\n",
       "      <th>2</th>\n",
       "      <td>c</td>\n",
       "      <td>l</td>\n",
       "      <td>w</td>\n",
       "      <td>o</td>\n",
       "      <td>k</td>\n",
       "      <td>c</td>\n",
       "    </tr>\n",
       "    <tr>\n",
       "      <th>3</th>\n",
       "      <td>d</td>\n",
       "      <td>v</td>\n",
       "      <td>r</td>\n",
       "      <td>y</td>\n",
       "      <td>o</td>\n",
       "      <td>d</td>\n",
       "    </tr>\n",
       "  </tbody>\n",
       "</table>\n",
       "</div>"
      ],
      "text/plain": [
       "  carrier_letter column_1 column_2 column_3 column_4 column_5\n",
       "0              a        i        i        g        g        g\n",
       "1              b        z        l        h        i        b\n",
       "2              c        l        w        o        k        c\n",
       "3              d        v        r        y        o        d"
      ]
     },
     "execution_count": 623,
     "metadata": {},
     "output_type": "execute_result"
    }
   ],
   "source": [
    "df"
   ]
  },
  {
   "cell_type": "code",
   "execution_count": 624,
   "metadata": {},
   "outputs": [
    {
     "data": {
      "text/plain": [
       "1"
      ]
     },
     "execution_count": 624,
     "metadata": {},
     "output_type": "execute_result"
    }
   ],
   "source": [
    "df.columns[1:]\n",
    "# get index of the column by name\n",
    "column_index = df.columns.get_loc('column_1')\n",
    "column_index"
   ]
  },
  {
   "cell_type": "code",
   "execution_count": 625,
   "metadata": {},
   "outputs": [
    {
     "data": {
      "text/plain": [
       "'column_1'"
      ]
     },
     "execution_count": 625,
     "metadata": {},
     "output_type": "execute_result"
    }
   ],
   "source": [
    "# one random column\n",
    "column_name = random.choice(df.columns[1:])\n",
    "column_name"
   ]
  },
  {
   "cell_type": "code",
   "execution_count": 626,
   "metadata": {},
   "outputs": [],
   "source": [
    "def move_columns(df,column, column_to_change):\n",
    "    \"\"\"Function shifts the values of a column in one column, so there will be no same characters in the same row.\n",
    "       Function should return df with columns with no same characters in the same row.\n",
    "    \"\"\"\n",
    "    iter = 0\n",
    "    was_shifted = False\n",
    "    \n",
    "    while any(df[column] == df[column_to_change]):\n",
    "        print(f\"Column {column} has same values as {column_to_change}\")\n",
    "        df = shift_single_column(df, column_to_change)\n",
    "        was_shifted = True\n",
    "        iter += 1\n",
    "        if iter > 100:\n",
    "            print(\"Too many iterations, breaking out of the loop.\")\n",
    "            break\n",
    "    \n",
    "    return df, was_shifted"
   ]
  },
  {
   "cell_type": "code",
   "execution_count": 627,
   "metadata": {},
   "outputs": [],
   "source": [
    "def fix_repetition_for_one_column(df,  column_to_change, iter):\n",
    "    was_shifted = False\n",
    "    for column in df.columns[1:iter]:\n",
    "        print(f\"Checking column {column} for repetition with {column_to_change}\")\n",
    "        if column == column_to_change: #necessary to skip the column that is being changed\n",
    "            continue\n",
    "        df , was_shifted = move_columns(df,column, column_to_change)\n",
    "\n",
    "    return df, was_shifted"
   ]
  },
  {
   "cell_type": "code",
   "execution_count": 628,
   "metadata": {},
   "outputs": [],
   "source": [
    "def fix_repetition(df):\n",
    "    \"\"\"Function iterates over all columns comparing them and shifting the values; after shift it begins comparing columns from the start\"\"\"\n",
    "    iter = -2\n",
    "    \n",
    "    was_shifted = True\n",
    "    # skip carrier_letter and first column and fix repetition in the rest of the columns\n",
    "    for column_to_change in df.columns[2:]:\n",
    "        # print(column_to_change)\n",
    "        while was_shifted:\n",
    "            was_shifted = False\n",
    "            df, was_shifted =fix_repetition_for_one_column(df,  column_to_change, iter)\n",
    "            print(column_to_change)\n",
    "            \n",
    "        iter += 1\n",
    "        was_shifted = True\n",
    "\n",
    "    return df"
   ]
  },
  {
   "cell_type": "code",
   "execution_count": 629,
   "metadata": {},
   "outputs": [],
   "source": [
    "# def move_columns(df,column, column_to_change):\n",
    "#     # Start with this as False, and only update it once an actual shift has been made.\n",
    "#     was_shifted = False\n",
    "#     iter = 0\n",
    "    \n",
    "#     while any(df[column] == df[column_to_change]):\n",
    "#         print(f\"Column {column} has same values as {column_to_change}\")\n",
    "#         df = shift_single_column(df, column_to_change)\n",
    "#         was_shifted = True\n",
    "#         iter += 1\n",
    "#         if iter > 100:\n",
    "#             print(\"Too many iterations, breaking out of the loop.\")\n",
    "#             break\n",
    "\n",
    "#     return df, was_shifted\n",
    "\n",
    "# def fix_repetition_for_one_column(df,  column_to_change, iter):\n",
    "#     # Start with this as False, and only update it once an actual shift has been made.\n",
    "#     was_shifted = False\n",
    "#     for column in df.columns[1:iter]:\n",
    "#         print(f\"Checking column {column} for repetition with {column_to_change}\")\n",
    "#         if column == column_to_change: #necessary to skip the column that is being changed\n",
    "#             continue\n",
    "#         df , was_shifted = move_columns(df,column, column_to_change)\n",
    "\n",
    "#     return df, was_shifted\n",
    "\n",
    "# def fix_repetition(df):\n",
    "#     \"\"\"Function iterates over all columns comparing them and shifting the values; after shift it begins comparing columns from the start\"\"\"\n",
    "#     iter = -1*(len(df.columns)-2)\n",
    "#     was_shifted = True # Initially value is true to make sure loop is entered.\n",
    "\n",
    "#     # skip carrier_letter and first column and fix repetition in the rest of the columns\n",
    "#     for column_to_change in df.columns[2:]:\n",
    "#         while was_shifted:\n",
    "#             was_shifted = False\n",
    "#             df, was_shifted = fix_repetition_for_one_column(df,  column_to_change, iter)\n",
    "#             print(column_to_change)\n",
    "            \n",
    "#         iter += 1\n",
    "#         was_shifted = True # Reset this value so loop is re-entered for the next column.\n",
    "\n",
    "#     return df\n",
    "\n",
    "# df_fixed = fix_repetition(df)\n"
   ]
  },
  {
   "cell_type": "code",
   "execution_count": 630,
   "metadata": {},
   "outputs": [
    {
     "name": "stdout",
     "output_type": "stream",
     "text": [
      "  carrier_letter column_1 column_2 column_3 column_4 column_5\n",
      "0              a        i        i        g        g        g\n",
      "1              b        z        l        h        i        b\n",
      "2              c        l        w        o        k        c\n",
      "3              d        v        r        y        o        d\n"
     ]
    }
   ],
   "source": [
    "print(df)"
   ]
  },
  {
   "cell_type": "code",
   "execution_count": 631,
   "metadata": {},
   "outputs": [
    {
     "name": "stdout",
     "output_type": "stream",
     "text": [
      "Checking column column_1 for repetition with column_2\n",
      "Column column_1 has same values as column_2\n",
      "Column column_1 has same values as column_2\n",
      "Checking column column_2 for repetition with column_2\n",
      "Checking column column_3 for repetition with column_2\n",
      "column_2\n",
      "Checking column column_1 for repetition with column_3\n",
      "Checking column column_2 for repetition with column_3\n",
      "Checking column column_3 for repetition with column_3\n",
      "Checking column column_4 for repetition with column_3\n",
      "Column column_4 has same values as column_3\n",
      "Column column_4 has same values as column_3\n",
      "column_3\n",
      "Checking column column_1 for repetition with column_3\n",
      "Checking column column_2 for repetition with column_3\n",
      "Checking column column_3 for repetition with column_3\n",
      "Checking column column_4 for repetition with column_3\n",
      "column_3\n",
      "column_4\n",
      "column_5\n"
     ]
    }
   ],
   "source": [
    "df_fixed = fix_repetition(df)\n"
   ]
  },
  {
   "cell_type": "code",
   "execution_count": 632,
   "metadata": {},
   "outputs": [
    {
     "name": "stdout",
     "output_type": "stream",
     "text": [
      "  carrier_letter column_1 column_2 column_3 column_4 column_5\n",
      "0              a        i        w        o        g        g\n",
      "1              b        z        r        y        i        b\n",
      "2              c        l        i        g        k        c\n",
      "3              d        v        l        h        o        d\n"
     ]
    }
   ],
   "source": [
    "print(df_fixed)"
   ]
  },
  {
   "cell_type": "code",
   "execution_count": 633,
   "metadata": {},
   "outputs": [
    {
     "name": "stdout",
     "output_type": "stream",
     "text": [
      "6\n"
     ]
    }
   ],
   "source": [
    "\n",
    "num_columns = len(df.columns)\n",
    "print(num_columns)"
   ]
  }
 ],
 "metadata": {
  "kernelspec": {
   "display_name": "venv",
   "language": "python",
   "name": "python3"
  },
  "language_info": {
   "codemirror_mode": {
    "name": "ipython",
    "version": 3
   },
   "file_extension": ".py",
   "mimetype": "text/x-python",
   "name": "python",
   "nbconvert_exporter": "python",
   "pygments_lexer": "ipython3",
   "version": "3.11.2"
  }
 },
 "nbformat": 4,
 "nbformat_minor": 2
}
