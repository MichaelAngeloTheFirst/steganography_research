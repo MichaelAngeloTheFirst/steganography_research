{
 "cells": [
  {
   "cell_type": "code",
   "execution_count": 16,
   "metadata": {},
   "outputs": [],
   "source": [
    "import string\n",
    "import random"
   ]
  },
  {
   "cell_type": "code",
   "execution_count": 21,
   "metadata": {},
   "outputs": [],
   "source": [
    "def generate_alphabet_tuples():\n",
    "    return [(chr(i), []) for i in range(ord('a'), ord('z')+1)]\n"
   ]
  },
  {
   "cell_type": "code",
   "execution_count": 27,
   "metadata": {},
   "outputs": [],
   "source": [
    "def generate_character_mapping():\n",
    "    alphabet_tuples = generate_alphabet_tuples()\n",
    "    for i in range(8):\n",
    "        ascii_low = string.ascii_lowercase\n",
    "        for t in alphabet_tuples:\n",
    "            c =  random.choice(ascii_low)\n",
    "            t[1].append(c)\n",
    "            ascii_low =ascii_low.replace(c,'')\n",
    "    \n",
    "    \n",
    "    return alphabet_tuples"
   ]
  },
  {
   "cell_type": "code",
   "execution_count": 28,
   "metadata": {},
   "outputs": [],
   "source": [
    "alphabet_tuples = generate_character_mapping()"
   ]
  },
  {
   "cell_type": "code",
   "execution_count": 29,
   "metadata": {},
   "outputs": [
    {
     "data": {
      "text/plain": [
       "[('a', ['d', 't', 'g', 'b', 's', 'h', 'v', 't']),\n",
       " ('b', ['z', 'd', 'r', 'f', 'o', 'd', 'x', 'e']),\n",
       " ('c', ['f', 'g', 'x', 'q', 'u', 'v', 'r', 'v']),\n",
       " ('d', ['s', 'z', 'o', 'u', 'i', 'a', 't', 'z']),\n",
       " ('e', ['p', 'y', 'j', 'v', 'l', 'o', 'l', 'q']),\n",
       " ('f', ['m', 'f', 'f', 'r', 'd', 'f', 'u', 'w']),\n",
       " ('g', ['i', 'o', 'b', 'e', 'p', 'p', 'd', 'p']),\n",
       " ('h', ['x', 'l', 'y', 'i', 'f', 'n', 'j', 'j']),\n",
       " ('i', ['g', 'q', 'p', 'd', 't', 'g', 'i', 'r']),\n",
       " ('j', ['t', 'h', 'l', 'a', 'h', 't', 'p', 'o']),\n",
       " ('k', ['j', 'r', 'm', 'm', 'v', 'w', 'y', 's']),\n",
       " ('l', ['e', 'x', 'q', 'j', 'c', 'c', 'o', 'd']),\n",
       " ('m', ['c', 'a', 'k', 'c', 'k', 'x', 'b', 'g']),\n",
       " ('n', ['y', 'c', 'u', 'n', 'r', 'z', 'h', 'k']),\n",
       " ('o', ['r', 'e', 'h', 'x', 'y', 'y', 'm', 'u']),\n",
       " ('p', ['v', 's', 't', 'w', 'j', 'i', 'w', 'm']),\n",
       " ('q', ['n', 'u', 'z', 'z', 'q', 'r', 'g', 'n']),\n",
       " ('r', ['q', 'p', 'i', 'y', 'z', 'q', 'e', 'b']),\n",
       " ('s', ['u', 'm', 'w', 's', 'b', 'm', 'f', 'h']),\n",
       " ('t', ['o', 'n', 'd', 'p', 'g', 'j', 'z', 'x']),\n",
       " ('u', ['k', 'v', 'c', 't', 'm', 'e', 'q', 'a']),\n",
       " ('v', ['h', 'i', 'n', 'k', 'w', 'l', 'n', 'l']),\n",
       " ('w', ['l', 'w', 'a', 'h', 'a', 's', 'k', 'i']),\n",
       " ('x', ['a', 'b', 'e', 'o', 'e', 'k', 'a', 'c']),\n",
       " ('y', ['w', 'j', 'v', 'g', 'x', 'u', 'c', 'y']),\n",
       " ('z', ['b', 'k', 's', 'l', 'n', 'b', 's', 'f'])]"
      ]
     },
     "execution_count": 29,
     "metadata": {},
     "output_type": "execute_result"
    }
   ],
   "source": [
    "alphabet_tuples"
   ]
  },
  {
   "cell_type": "code",
   "execution_count": null,
   "metadata": {},
   "outputs": [],
   "source": []
  }
 ],
 "metadata": {
  "kernelspec": {
   "display_name": "venv",
   "language": "python",
   "name": "python3"
  },
  "language_info": {
   "codemirror_mode": {
    "name": "ipython",
    "version": 3
   },
   "file_extension": ".py",
   "mimetype": "text/x-python",
   "name": "python",
   "nbconvert_exporter": "python",
   "pygments_lexer": "ipython3",
   "version": "3.11.2"
  }
 },
 "nbformat": 4,
 "nbformat_minor": 2
}
