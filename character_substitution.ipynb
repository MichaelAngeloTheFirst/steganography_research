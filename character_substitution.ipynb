{
 "cells": [
  {
   "cell_type": "code",
   "execution_count": 46,
   "metadata": {},
   "outputs": [],
   "source": [
    "import pandas as pd\n",
    "import random\n",
    "import string"
   ]
  },
  {
   "cell_type": "code",
   "execution_count": 47,
   "metadata": {},
   "outputs": [],
   "source": [
    "def generate_alphabet_tuples():\n",
    "    return [(chr(i), []) for i in range(ord('a'), ord('z')+1)]\n"
   ]
  },
  {
   "cell_type": "code",
   "execution_count": 48,
   "metadata": {},
   "outputs": [],
   "source": [
    "def generate_character_mapping():\n",
    "    alphabet_tuples = generate_alphabet_tuples()\n",
    "    for i in range(8):\n",
    "        ascii_low = string.ascii_lowercase\n",
    "        for t in alphabet_tuples:\n",
    "            c =  random.choice(ascii_low)\n",
    "            t[1].append(c)\n",
    "            ascii_low =ascii_low.replace(c,'')\n",
    "    \n",
    "    \n",
    "    return alphabet_tuples"
   ]
  },
  {
   "cell_type": "code",
   "execution_count": 49,
   "metadata": {},
   "outputs": [],
   "source": [
    "alphabet_tuples = generate_character_mapping()"
   ]
  },
  {
   "cell_type": "code",
   "execution_count": 50,
   "metadata": {},
   "outputs": [
    {
     "data": {
      "text/plain": [
       "[('a', ['k', 'x', 'p', 'p', 'q', 'q', 'm', 'z']),\n",
       " ('b', ['d', 'q', 'z', 'h', 'n', 'm', 'c', 'f']),\n",
       " ('c', ['u', 'y', 'c', 'e', 'c', 'z', 'j', 'o']),\n",
       " ('d', ['r', 'u', 'h', 'b', 'z', 'c', 'u', 'j']),\n",
       " ('e', ['f', 's', 's', 's', 'y', 'b', 'e', 'u']),\n",
       " ('f', ['h', 'g', 'g', 'n', 'd', 'a', 'q', 'v']),\n",
       " ('g', ['j', 'o', 'm', 'w', 'j', 'e', 'l', 'c']),\n",
       " ('h', ['q', 'b', 'j', 'd', 'r', 'g', 'w', 'n']),\n",
       " ('i', ['t', 'i', 'f', 'x', 'm', 't', 't', 'l']),\n",
       " ('j', ['m', 'c', 'e', 'k', 'a', 'o', 'i', 'g']),\n",
       " ('k', ['l', 'v', 'u', 'r', 'l', 's', 'd', 'h']),\n",
       " ('l', ['a', 'z', 'v', 'f', 'b', 'x', 'r', 'k']),\n",
       " ('m', ['g', 'j', 'l', 'v', 't', 'n', 'v', 'i']),\n",
       " ('n', ['s', 'l', 'a', 'g', 'g', 'y', 'z', 'm']),\n",
       " ('o', ['o', 'n', 't', 'a', 'h', 'l', 'k', 'y']),\n",
       " ('p', ['n', 'a', 'b', 't', 'i', 'u', 'n', 'a']),\n",
       " ('q', ['i', 'e', 'd', 'y', 'v', 'i', 'p', 'b']),\n",
       " ('r', ['e', 'p', 'i', 'z', 'o', 'h', 'g', 's']),\n",
       " ('s', ['w', 'h', 'o', 'i', 'f', 'd', 'h', 'p']),\n",
       " ('t', ['x', 'm', 'y', 'c', 'u', 'k', 's', 't']),\n",
       " ('u', ['y', 't', 'q', 'j', 'e', 'j', 'b', 'q']),\n",
       " ('v', ['v', 'r', 'n', 'm', 'k', 'r', 'y', 'r']),\n",
       " ('w', ['b', 'k', 'r', 'o', 'x', 'p', 'x', 'd']),\n",
       " ('x', ['p', 'd', 'w', 'u', 'p', 'w', 'f', 'e']),\n",
       " ('y', ['z', 'f', 'k', 'q', 's', 'f', 'o', 'w']),\n",
       " ('z', ['c', 'w', 'x', 'l', 'w', 'v', 'a', 'x'])]"
      ]
     },
     "execution_count": 50,
     "metadata": {},
     "output_type": "execute_result"
    }
   ],
   "source": [
    "alphabet_tuples"
   ]
  },
  {
   "cell_type": "markdown",
   "metadata": {},
   "source": [
    "## change to dataframe "
   ]
  },
  {
   "cell_type": "code",
   "execution_count": 51,
   "metadata": {},
   "outputs": [],
   "source": [
    "def generate_alphabet_df():\n",
    "    # dataframe with indexes from 'a' to 'z' and columns 'value_1' to 'value_8'\n",
    "    alphabet_df = pd.DataFrame(index=[chr(i) for i in range(ord('a'), ord('d')+1)], \n",
    "                               columns=['column_'+str(i) for i in range(1,3)])\n",
    "    alphabet_df.index.name = \"carrier_letter\"\n",
    "    \n",
    "    \n",
    "    for each_column in alphabet_df.columns:\n",
    "        ascii_low = string.ascii_lowercase\n",
    "        for each_index in alphabet_df.index:\n",
    "            c = random.choice(ascii_low)\n",
    "            alphabet_df.loc[each_index, each_column] = c\n",
    "            ascii_low = ascii_low.replace(c,'')\n",
    "            \n",
    "    alphabet_df.reset_index(level=0, inplace=True)\n",
    "            \n",
    "    return alphabet_df"
   ]
  },
  {
   "cell_type": "code",
   "execution_count": 52,
   "metadata": {},
   "outputs": [],
   "source": [
    "alphabet_df = generate_alphabet_df()\n"
   ]
  },
  {
   "cell_type": "code",
   "execution_count": 53,
   "metadata": {},
   "outputs": [
    {
     "name": "stdout",
     "output_type": "stream",
     "text": [
      "  carrier_letter column_1 column_2\n",
      "0              a        k        p\n",
      "1              b        d        b\n",
      "2              c        a        h\n",
      "3              d        z        y\n"
     ]
    }
   ],
   "source": [
    "print(alphabet_df)"
   ]
  },
  {
   "cell_type": "code",
   "execution_count": 54,
   "metadata": {},
   "outputs": [],
   "source": [
    "def shift_single_column(df, column_name, shift_value =1):\n",
    "    column_to_shift = df[column_name]\n",
    "    \n",
    "    lost_values = column_to_shift[-shift_value:]\n",
    "    \n",
    "    shifted_column = df[column_name].shift(shift_value)\n",
    "   \n",
    "    df[column_name] = pd.concat([lost_values, shifted_column[shift_value:]]).reset_index(drop=True)\n",
    "\n",
    "    return df\n"
   ]
  },
  {
   "cell_type": "code",
   "execution_count": 55,
   "metadata": {},
   "outputs": [],
   "source": [
    "alphabet_df_shifted = shift_single_column(alphabet_df, 'column_1')"
   ]
  },
  {
   "cell_type": "code",
   "execution_count": 56,
   "metadata": {},
   "outputs": [
    {
     "data": {
      "text/html": [
       "<div>\n",
       "<style scoped>\n",
       "    .dataframe tbody tr th:only-of-type {\n",
       "        vertical-align: middle;\n",
       "    }\n",
       "\n",
       "    .dataframe tbody tr th {\n",
       "        vertical-align: top;\n",
       "    }\n",
       "\n",
       "    .dataframe thead th {\n",
       "        text-align: right;\n",
       "    }\n",
       "</style>\n",
       "<table border=\"1\" class=\"dataframe\">\n",
       "  <thead>\n",
       "    <tr style=\"text-align: right;\">\n",
       "      <th></th>\n",
       "      <th>carrier_letter</th>\n",
       "      <th>column_1</th>\n",
       "      <th>column_2</th>\n",
       "    </tr>\n",
       "  </thead>\n",
       "  <tbody>\n",
       "    <tr>\n",
       "      <th>0</th>\n",
       "      <td>a</td>\n",
       "      <td>z</td>\n",
       "      <td>p</td>\n",
       "    </tr>\n",
       "    <tr>\n",
       "      <th>1</th>\n",
       "      <td>b</td>\n",
       "      <td>k</td>\n",
       "      <td>b</td>\n",
       "    </tr>\n",
       "    <tr>\n",
       "      <th>2</th>\n",
       "      <td>c</td>\n",
       "      <td>d</td>\n",
       "      <td>h</td>\n",
       "    </tr>\n",
       "    <tr>\n",
       "      <th>3</th>\n",
       "      <td>d</td>\n",
       "      <td>a</td>\n",
       "      <td>y</td>\n",
       "    </tr>\n",
       "  </tbody>\n",
       "</table>\n",
       "</div>"
      ],
      "text/plain": [
       "  carrier_letter column_1 column_2\n",
       "0              a        z        p\n",
       "1              b        k        b\n",
       "2              c        d        h\n",
       "3              d        a        y"
      ]
     },
     "execution_count": 56,
     "metadata": {},
     "output_type": "execute_result"
    }
   ],
   "source": [
    "alphabet_df_shifted"
   ]
  },
  {
   "cell_type": "markdown",
   "metadata": {},
   "source": [
    "## shift columns to achieve no repetition in rows"
   ]
  },
  {
   "cell_type": "code",
   "execution_count": 57,
   "metadata": {},
   "outputs": [],
   "source": [
    "data = {\n",
    "    'carrier_letter': ['a', 'b', 'c', 'd'],\n",
    "    'column_1': ['i', 'z', 'l', 'v'],\n",
    "    'column_2': ['i', 'l', 'w', 'r'],\n",
    "    'column_3': ['g', 'h', 'o', 'y'],\n",
    "    'column_4': ['g', 'i', 'k', 'o'],\n",
    "    'column_5': ['g', 'b', 'c', 'd'],\n",
    "}\n",
    "\n",
    "df = pd.DataFrame(data)"
   ]
  },
  {
   "cell_type": "code",
   "execution_count": 58,
   "metadata": {},
   "outputs": [
    {
     "data": {
      "text/html": [
       "<div>\n",
       "<style scoped>\n",
       "    .dataframe tbody tr th:only-of-type {\n",
       "        vertical-align: middle;\n",
       "    }\n",
       "\n",
       "    .dataframe tbody tr th {\n",
       "        vertical-align: top;\n",
       "    }\n",
       "\n",
       "    .dataframe thead th {\n",
       "        text-align: right;\n",
       "    }\n",
       "</style>\n",
       "<table border=\"1\" class=\"dataframe\">\n",
       "  <thead>\n",
       "    <tr style=\"text-align: right;\">\n",
       "      <th></th>\n",
       "      <th>carrier_letter</th>\n",
       "      <th>column_1</th>\n",
       "      <th>column_2</th>\n",
       "      <th>column_3</th>\n",
       "      <th>column_4</th>\n",
       "      <th>column_5</th>\n",
       "    </tr>\n",
       "  </thead>\n",
       "  <tbody>\n",
       "    <tr>\n",
       "      <th>0</th>\n",
       "      <td>a</td>\n",
       "      <td>i</td>\n",
       "      <td>i</td>\n",
       "      <td>g</td>\n",
       "      <td>g</td>\n",
       "      <td>g</td>\n",
       "    </tr>\n",
       "    <tr>\n",
       "      <th>1</th>\n",
       "      <td>b</td>\n",
       "      <td>z</td>\n",
       "      <td>l</td>\n",
       "      <td>h</td>\n",
       "      <td>i</td>\n",
       "      <td>b</td>\n",
       "    </tr>\n",
       "    <tr>\n",
       "      <th>2</th>\n",
       "      <td>c</td>\n",
       "      <td>l</td>\n",
       "      <td>w</td>\n",
       "      <td>o</td>\n",
       "      <td>k</td>\n",
       "      <td>c</td>\n",
       "    </tr>\n",
       "    <tr>\n",
       "      <th>3</th>\n",
       "      <td>d</td>\n",
       "      <td>v</td>\n",
       "      <td>r</td>\n",
       "      <td>y</td>\n",
       "      <td>o</td>\n",
       "      <td>d</td>\n",
       "    </tr>\n",
       "  </tbody>\n",
       "</table>\n",
       "</div>"
      ],
      "text/plain": [
       "  carrier_letter column_1 column_2 column_3 column_4 column_5\n",
       "0              a        i        i        g        g        g\n",
       "1              b        z        l        h        i        b\n",
       "2              c        l        w        o        k        c\n",
       "3              d        v        r        y        o        d"
      ]
     },
     "execution_count": 58,
     "metadata": {},
     "output_type": "execute_result"
    }
   ],
   "source": [
    "df"
   ]
  },
  {
   "cell_type": "code",
   "execution_count": 59,
   "metadata": {},
   "outputs": [
    {
     "data": {
      "text/plain": [
       "1"
      ]
     },
     "execution_count": 59,
     "metadata": {},
     "output_type": "execute_result"
    }
   ],
   "source": [
    "df.columns[1:]\n",
    "# get index of the column by name\n",
    "column_index = df.columns.get_loc('column_1')\n",
    "column_index"
   ]
  },
  {
   "cell_type": "code",
   "execution_count": 60,
   "metadata": {},
   "outputs": [
    {
     "data": {
      "text/plain": [
       "'column_4'"
      ]
     },
     "execution_count": 60,
     "metadata": {},
     "output_type": "execute_result"
    }
   ],
   "source": [
    "# one random column\n",
    "column_name = random.choice(df.columns[1:])\n",
    "column_name"
   ]
  },
  {
   "cell_type": "code",
   "execution_count": 61,
   "metadata": {},
   "outputs": [],
   "source": [
    "def move_columns(df,column, column_to_change):\n",
    "    \"\"\"Function shifts the values of a column in one column, so there will be no same characters in the same row.\n",
    "       Function should return df with columns with no same characters in the same row.\n",
    "    \"\"\"\n",
    "    iter = 0\n",
    "    was_shifted = False\n",
    "    \n",
    "    while any(df[column] == df[column_to_change]):\n",
    "        print(f\"Column {column} has same values as {column_to_change}\")\n",
    "        df = shift_single_column(df, column_to_change)\n",
    "        was_shifted = True\n",
    "        iter += 1\n",
    "        if iter > 100:\n",
    "            print(\"Too many iterations, breaking out of the loop.\")\n",
    "            break\n",
    "    \n",
    "    return df, was_shifted"
   ]
  },
  {
   "cell_type": "code",
   "execution_count": 62,
   "metadata": {},
   "outputs": [],
   "source": [
    "def fix_repetition_for_one_column(df,  column_to_change, iter):\n",
    "    was_shifted = False\n",
    "    for column in df.columns[1:iter]:\n",
    "        print(f\"Checking column {column} for repetition with {column_to_change}\")\n",
    "        if column == column_to_change: #necessary to skip the column that is being changed\n",
    "            continue\n",
    "        df , was_shifted = move_columns(df,column, column_to_change)\n",
    "\n",
    "    return df, was_shifted"
   ]
  },
  {
   "cell_type": "code",
   "execution_count": 63,
   "metadata": {},
   "outputs": [],
   "source": [
    "def fix_repetition(df):\n",
    "    \"\"\"Function iterates over all columns comparing them and shifting the values; after shift it begins comparing columns from the start\"\"\"\n",
    "    iter = -1*len(df.columns[2:])\n",
    "    \n",
    "    was_shifted = True\n",
    "    # skip carrier_letter and first column and fix repetition in the rest of the columns\n",
    "    for column_to_change in df.columns[2:]:\n",
    "        # print(column_to_change)\n",
    "        while was_shifted:\n",
    "            was_shifted = False\n",
    "            df, was_shifted =fix_repetition_for_one_column(df,  column_to_change, iter)\n",
    "            print(column_to_change)\n",
    "            \n",
    "        iter += 1\n",
    "        was_shifted = True\n",
    "\n",
    "    return df"
   ]
  },
  {
   "cell_type": "code",
   "execution_count": 64,
   "metadata": {},
   "outputs": [
    {
     "name": "stdout",
     "output_type": "stream",
     "text": [
      "  carrier_letter column_1 column_2 column_3 column_4 column_5\n",
      "0              a        i        i        g        g        g\n",
      "1              b        z        l        h        i        b\n",
      "2              c        l        w        o        k        c\n",
      "3              d        v        r        y        o        d\n"
     ]
    }
   ],
   "source": [
    "print(df)"
   ]
  },
  {
   "cell_type": "code",
   "execution_count": 65,
   "metadata": {},
   "outputs": [
    {
     "name": "stdout",
     "output_type": "stream",
     "text": [
      "Checking column column_1 for repetition with column_2\n",
      "Column column_1 has same values as column_2\n",
      "Column column_1 has same values as column_2\n",
      "column_2\n",
      "Checking column column_1 for repetition with column_2\n",
      "column_2\n",
      "Checking column column_1 for repetition with column_3\n",
      "Checking column column_2 for repetition with column_3\n",
      "column_3\n",
      "Checking column column_1 for repetition with column_4\n",
      "Checking column column_2 for repetition with column_4\n",
      "Checking column column_3 for repetition with column_4\n",
      "Column column_3 has same values as column_4\n",
      "column_4\n",
      "Checking column column_1 for repetition with column_4\n",
      "Checking column column_2 for repetition with column_4\n",
      "Column column_2 has same values as column_4\n",
      "Checking column column_3 for repetition with column_4\n",
      "column_4\n",
      "Checking column column_1 for repetition with column_5\n",
      "Checking column column_2 for repetition with column_5\n",
      "Checking column column_3 for repetition with column_5\n",
      "Column column_3 has same values as column_5\n",
      "Checking column column_4 for repetition with column_5\n",
      "column_5\n"
     ]
    }
   ],
   "source": [
    "df_fixed = fix_repetition(df)\n"
   ]
  },
  {
   "cell_type": "code",
   "execution_count": 66,
   "metadata": {},
   "outputs": [
    {
     "name": "stdout",
     "output_type": "stream",
     "text": [
      "  carrier_letter column_1 column_2 column_3 column_4 column_5\n",
      "0              a        i        w        g        k        d\n",
      "1              b        z        r        h        o        g\n",
      "2              c        l        i        o        g        b\n",
      "3              d        v        l        y        i        c\n"
     ]
    }
   ],
   "source": [
    "print(df_fixed)"
   ]
  },
  {
   "cell_type": "code",
   "execution_count": 67,
   "metadata": {},
   "outputs": [
    {
     "name": "stdout",
     "output_type": "stream",
     "text": [
      "6\n"
     ]
    }
   ],
   "source": [
    "\n",
    "num_columns = len(df.columns)\n",
    "print(num_columns)"
   ]
  }
 ],
 "metadata": {
  "kernelspec": {
   "display_name": "venv",
   "language": "python",
   "name": "python3"
  },
  "language_info": {
   "codemirror_mode": {
    "name": "ipython",
    "version": 3
   },
   "file_extension": ".py",
   "mimetype": "text/x-python",
   "name": "python",
   "nbconvert_exporter": "python",
   "pygments_lexer": "ipython3",
   "version": "3.13.2"
  }
 },
 "nbformat": 4,
 "nbformat_minor": 2
}
