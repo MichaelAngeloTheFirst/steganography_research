{
 "cells": [
  {
   "cell_type": "code",
   "execution_count": 21,
   "metadata": {},
   "outputs": [],
   "source": [
    "import pandas as pd\n",
    "import random\n",
    "import string"
   ]
  },
  {
   "cell_type": "code",
   "execution_count": 22,
   "metadata": {},
   "outputs": [],
   "source": [
    "def generate_alphabet_tuples():\n",
    "    return [(chr(i), []) for i in range(ord('a'), ord('z')+1)]\n"
   ]
  },
  {
   "cell_type": "code",
   "execution_count": 23,
   "metadata": {},
   "outputs": [],
   "source": [
    "def generate_character_mapping():\n",
    "    alphabet_tuples = generate_alphabet_tuples()\n",
    "    for i in range(8):\n",
    "        ascii_low = string.ascii_lowercase\n",
    "        for t in alphabet_tuples:\n",
    "            c =  random.choice(ascii_low)\n",
    "            t[1].append(c)\n",
    "            ascii_low =ascii_low.replace(c,'')\n",
    "    \n",
    "    \n",
    "    return alphabet_tuples"
   ]
  },
  {
   "cell_type": "code",
   "execution_count": 24,
   "metadata": {},
   "outputs": [],
   "source": [
    "alphabet_tuples = generate_character_mapping()"
   ]
  },
  {
   "cell_type": "code",
   "execution_count": 25,
   "metadata": {},
   "outputs": [
    {
     "data": {
      "text/plain": [
       "[('a', ['c', 'g', 'q', 'o', 't', 'j', 'l', 's']),\n",
       " ('b', ['p', 's', 'm', 'h', 'r', 'a', 'g', 'i']),\n",
       " ('c', ['x', 'h', 'z', 'a', 'l', 'r', 'y', 'h']),\n",
       " ('d', ['f', 'k', 'h', 'm', 'm', 'd', 'f', 'q']),\n",
       " ('e', ['n', 'a', 'i', 'j', 'x', 'c', 'k', 'b']),\n",
       " ('f', ['r', 'b', 'd', 'i', 'q', 'p', 'e', 'z']),\n",
       " ('g', ['w', 'q', 'o', 'n', 'w', 'l', 'p', 'u']),\n",
       " ('h', ['o', 'x', 'f', 'x', 'i', 'x', 'v', 'g']),\n",
       " ('i', ['y', 'v', 'y', 'u', 'p', 'o', 'c', 'o']),\n",
       " ('j', ['k', 'j', 'p', 'l', 'v', 'w', 'd', 'w']),\n",
       " ('k', ['b', 'e', 's', 'v', 's', 's', 'a', 'r']),\n",
       " ('l', ['t', 'i', 'g', 'y', 'o', 'b', 'j', 't']),\n",
       " ('m', ['e', 'w', 'v', 'c', 'h', 'h', 'w', 'd']),\n",
       " ('n', ['v', 'r', 'a', 'p', 'c', 'i', 't', 'n']),\n",
       " ('o', ['g', 't', 'l', 'd', 'g', 'q', 'n', 'k']),\n",
       " ('p', ['q', 'c', 'k', 'f', 'e', 'g', 'r', 'm']),\n",
       " ('q', ['s', 'l', 'w', 't', 'd', 'm', 'm', 'j']),\n",
       " ('r', ['j', 'y', 'b', 'z', 'j', 'u', 'x', 'p']),\n",
       " ('s', ['a', 'm', 'x', 'b', 'u', 'y', 'q', 'c']),\n",
       " ('t', ['u', 'd', 'e', 'w', 'a', 'f', 'u', 'e']),\n",
       " ('u', ['h', 'u', 'r', 'g', 'z', 'z', 's', 'v']),\n",
       " ('v', ['m', 'o', 'c', 'k', 'b', 'e', 'i', 'y']),\n",
       " ('w', ['l', 'f', 't', 'q', 'y', 'k', 'o', 'a']),\n",
       " ('x', ['z', 'n', 'n', 'e', 'f', 't', 'z', 'f']),\n",
       " ('y', ['d', 'z', 'u', 's', 'k', 'v', 'h', 'x']),\n",
       " ('z', ['i', 'p', 'j', 'r', 'n', 'n', 'b', 'l'])]"
      ]
     },
     "execution_count": 25,
     "metadata": {},
     "output_type": "execute_result"
    }
   ],
   "source": [
    "alphabet_tuples"
   ]
  },
  {
   "cell_type": "markdown",
   "metadata": {},
   "source": [
    "## change to dataframe "
   ]
  },
  {
   "cell_type": "code",
   "execution_count": 26,
   "metadata": {},
   "outputs": [],
   "source": [
    "def generate_alphabet_df():\n",
    "    # dataframe with indexes from 'a' to 'z' and columns 'value_1' to 'value_8'\n",
    "    alphabet_df = pd.DataFrame(index=[chr(i) for i in range(ord('a'), ord('d')+1)], \n",
    "                               columns=['column_'+str(i) for i in range(1,3)])\n",
    "    alphabet_df.index.name = \"carrier_letter\"\n",
    "    \n",
    "    \n",
    "    for each_column in alphabet_df.columns:\n",
    "        ascii_low = string.ascii_lowercase\n",
    "        for each_index in alphabet_df.index:\n",
    "            c = random.choice(ascii_low)\n",
    "            alphabet_df.loc[each_index, each_column] = c\n",
    "            ascii_low = ascii_low.replace(c,'')\n",
    "            \n",
    "    alphabet_df.reset_index(level=0, inplace=True)\n",
    "            \n",
    "    return alphabet_df"
   ]
  },
  {
   "cell_type": "code",
   "execution_count": 27,
   "metadata": {},
   "outputs": [],
   "source": [
    "alphabet_df = generate_alphabet_df()\n"
   ]
  },
  {
   "cell_type": "code",
   "execution_count": 28,
   "metadata": {},
   "outputs": [
    {
     "name": "stdout",
     "output_type": "stream",
     "text": [
      "  carrier_letter column_1 column_2\n",
      "0              a        u        j\n",
      "1              b        l        l\n",
      "2              c        v        a\n",
      "3              d        y        n\n"
     ]
    }
   ],
   "source": [
    "print(alphabet_df)"
   ]
  },
  {
   "cell_type": "code",
   "execution_count": 29,
   "metadata": {},
   "outputs": [],
   "source": [
    "def shift_single_column(df, column_name, shift_value =1):\n",
    "    column_to_shift = df[column_name]\n",
    "    \n",
    "    lost_values = column_to_shift[-shift_value:]\n",
    "    \n",
    "    shifted_column = df[column_name].shift(shift_value)\n",
    "   \n",
    "    df[column_name] = pd.concat([lost_values, shifted_column[shift_value:]]).reset_index(drop=True)\n",
    "\n",
    "    return df\n"
   ]
  },
  {
   "cell_type": "code",
   "execution_count": 30,
   "metadata": {},
   "outputs": [],
   "source": [
    "alphabet_df_shifted = shift_single_column(alphabet_df, 'column_1')"
   ]
  },
  {
   "cell_type": "code",
   "execution_count": 31,
   "metadata": {},
   "outputs": [
    {
     "data": {
      "text/html": [
       "<div>\n",
       "<style scoped>\n",
       "    .dataframe tbody tr th:only-of-type {\n",
       "        vertical-align: middle;\n",
       "    }\n",
       "\n",
       "    .dataframe tbody tr th {\n",
       "        vertical-align: top;\n",
       "    }\n",
       "\n",
       "    .dataframe thead th {\n",
       "        text-align: right;\n",
       "    }\n",
       "</style>\n",
       "<table border=\"1\" class=\"dataframe\">\n",
       "  <thead>\n",
       "    <tr style=\"text-align: right;\">\n",
       "      <th></th>\n",
       "      <th>carrier_letter</th>\n",
       "      <th>column_1</th>\n",
       "      <th>column_2</th>\n",
       "    </tr>\n",
       "  </thead>\n",
       "  <tbody>\n",
       "    <tr>\n",
       "      <th>0</th>\n",
       "      <td>a</td>\n",
       "      <td>y</td>\n",
       "      <td>j</td>\n",
       "    </tr>\n",
       "    <tr>\n",
       "      <th>1</th>\n",
       "      <td>b</td>\n",
       "      <td>u</td>\n",
       "      <td>l</td>\n",
       "    </tr>\n",
       "    <tr>\n",
       "      <th>2</th>\n",
       "      <td>c</td>\n",
       "      <td>l</td>\n",
       "      <td>a</td>\n",
       "    </tr>\n",
       "    <tr>\n",
       "      <th>3</th>\n",
       "      <td>d</td>\n",
       "      <td>v</td>\n",
       "      <td>n</td>\n",
       "    </tr>\n",
       "  </tbody>\n",
       "</table>\n",
       "</div>"
      ],
      "text/plain": [
       "  carrier_letter column_1 column_2\n",
       "0              a        y        j\n",
       "1              b        u        l\n",
       "2              c        l        a\n",
       "3              d        v        n"
      ]
     },
     "execution_count": 31,
     "metadata": {},
     "output_type": "execute_result"
    }
   ],
   "source": [
    "alphabet_df_shifted"
   ]
  },
  {
   "cell_type": "markdown",
   "metadata": {},
   "source": [
    "## shift columns to achieve no repetition in rows"
   ]
  },
  {
   "cell_type": "code",
   "execution_count": 42,
   "metadata": {},
   "outputs": [],
   "source": [
    "data = {\n",
    "    'carrier_letter': ['a', 'b', 'c', 'd'],\n",
    "    'column_1': ['i', 'z', 'l', 'v'],\n",
    "    'column_2': ['i', 'l', 'w', 'r'],\n",
    "    'column_3': ['g', 'h', 'o', 'y'],\n",
    "    'column_4': ['g', 'i', 'k', 'o'],\n",
    "    'column_5': ['a', 'b', 'c', 'd'],\n",
    "}\n",
    "\n",
    "df = pd.DataFrame(data)"
   ]
  },
  {
   "cell_type": "code",
   "execution_count": 33,
   "metadata": {},
   "outputs": [
    {
     "data": {
      "text/html": [
       "<div>\n",
       "<style scoped>\n",
       "    .dataframe tbody tr th:only-of-type {\n",
       "        vertical-align: middle;\n",
       "    }\n",
       "\n",
       "    .dataframe tbody tr th {\n",
       "        vertical-align: top;\n",
       "    }\n",
       "\n",
       "    .dataframe thead th {\n",
       "        text-align: right;\n",
       "    }\n",
       "</style>\n",
       "<table border=\"1\" class=\"dataframe\">\n",
       "  <thead>\n",
       "    <tr style=\"text-align: right;\">\n",
       "      <th></th>\n",
       "      <th>carrier_letter</th>\n",
       "      <th>column_1</th>\n",
       "      <th>column_2</th>\n",
       "    </tr>\n",
       "  </thead>\n",
       "  <tbody>\n",
       "    <tr>\n",
       "      <th>0</th>\n",
       "      <td>a</td>\n",
       "      <td>i</td>\n",
       "      <td>i</td>\n",
       "    </tr>\n",
       "    <tr>\n",
       "      <th>1</th>\n",
       "      <td>b</td>\n",
       "      <td>z</td>\n",
       "      <td>l</td>\n",
       "    </tr>\n",
       "    <tr>\n",
       "      <th>2</th>\n",
       "      <td>c</td>\n",
       "      <td>l</td>\n",
       "      <td>w</td>\n",
       "    </tr>\n",
       "    <tr>\n",
       "      <th>3</th>\n",
       "      <td>d</td>\n",
       "      <td>v</td>\n",
       "      <td>r</td>\n",
       "    </tr>\n",
       "  </tbody>\n",
       "</table>\n",
       "</div>"
      ],
      "text/plain": [
       "  carrier_letter column_1 column_2\n",
       "0              a        i        i\n",
       "1              b        z        l\n",
       "2              c        l        w\n",
       "3              d        v        r"
      ]
     },
     "execution_count": 33,
     "metadata": {},
     "output_type": "execute_result"
    }
   ],
   "source": [
    "df"
   ]
  },
  {
   "cell_type": "code",
   "execution_count": 34,
   "metadata": {},
   "outputs": [
    {
     "data": {
      "text/plain": [
       "1"
      ]
     },
     "execution_count": 34,
     "metadata": {},
     "output_type": "execute_result"
    }
   ],
   "source": [
    "df.columns[1:]\n",
    "# get index of the column by name\n",
    "column_index = df.columns.get_loc('column_1')\n",
    "column_index"
   ]
  },
  {
   "cell_type": "code",
   "execution_count": 35,
   "metadata": {},
   "outputs": [
    {
     "data": {
      "text/plain": [
       "'column_1'"
      ]
     },
     "execution_count": 35,
     "metadata": {},
     "output_type": "execute_result"
    }
   ],
   "source": [
    "# one random column\n",
    "column_name = random.choice(df.columns[1:])\n",
    "column_name"
   ]
  },
  {
   "cell_type": "code",
   "execution_count": null,
   "metadata": {},
   "outputs": [],
   "source": [
    "def move_columns(df,column, column_to_change):\n",
    "    \"\"\"Function shifts the values of a column in one column, so there will be no same characters in the same row.\n",
    "       Function should return df with columns with no same characters in the same row.\n",
    "    \"\"\"\n",
    "    iter = 0\n",
    "    was_shifted = False\n",
    "    \n",
    "    while any(df[column] == df[column_to_change]):\n",
    "        df = shift_single_column(df, column_to_change)\n",
    "        was_shifted = True\n",
    "        iter += 1\n",
    "        if iter > 100:\n",
    "            break\n",
    "    \n",
    "    return df, was_shifted"
   ]
  },
  {
   "cell_type": "code",
   "execution_count": null,
   "metadata": {},
   "outputs": [],
   "source": [
    "def fix_repetition(df):\n",
    "    \"\"\"Function iterates over all columns comparing them and shifting the values; after shift it begins comparing columns from the start\"\"\"\n",
    "    iter = 6\n",
    "    # skip carrier_letter and first column and fix repetition in the rest of the columns\n",
    "    for column_to_change in df.columns[2]:\n",
    "        #comapre\n",
    "        for column in df.columns[1:iter]:\n",
    "            if column == column_to_change: # not necessary to check?\n",
    "                continue\n",
    "            df , was_shifted = move_columns(df,column, column_to_change)\n",
    "            \n",
    "            \n",
    "        iter -= 1\n",
    "        \n",
    "        \n",
    "        #\n",
    "        # for column_to_change in df.columns[2:]:\n",
    "        #     #if we have same column, skip it\n",
    "        #     if column_to_change == column:\n",
    "        #         continue\n",
    "        #     #iterate over all rows and check if there are any same values in the same row\n",
    "        #     for index, row in df[column].items():\n",
    "\n",
    "                \n",
    "        #         if row == df[column_to_change][index]:\n",
    "        #             #if there are same values in the same row, shift the column\n",
    "        #             df, was_shifted = move_columns(df,column, column_to_change)\n",
    "                    \n",
    "               \n",
    "            #compare only with columns before the current column\n",
    "        # for column_to_change in df.columns[2:]:\n",
    "            #if we have same column, skip it\n",
    "            #3.compare two values in the same row\n",
    "            #4.if they are the same, shift the column and check again\n",
    "            #5. if they are not the same, go to the next row\n",
    "            #6. if all rows are checked, go to the next column\n",
    "            \n",
    "    \n",
    "        \n",
    "   \n",
    "    #7. if all columns are checked, return the dataframe\n",
    "    return df"
   ]
  },
  {
   "cell_type": "code",
   "execution_count": 54,
   "metadata": {},
   "outputs": [
    {
     "ename": "ValueError",
     "evalue": "too many values to unpack (expected 2)",
     "output_type": "error",
     "traceback": [
      "\u001b[31m---------------------------------------------------------------------------\u001b[39m",
      "\u001b[31mValueError\u001b[39m                                Traceback (most recent call last)",
      "\u001b[36mCell\u001b[39m\u001b[36m \u001b[39m\u001b[32mIn[54]\u001b[39m\u001b[32m, line 1\u001b[39m\n\u001b[32m----> \u001b[39m\u001b[32m1\u001b[39m df_fixed = \u001b[43mfix_repetition\u001b[49m\u001b[43m(\u001b[49m\u001b[43mdf\u001b[49m\u001b[43m)\u001b[49m\n",
      "\u001b[36mCell\u001b[39m\u001b[36m \u001b[39m\u001b[32mIn[53]\u001b[39m\u001b[32m, line 5\u001b[39m, in \u001b[36mfix_repetition\u001b[39m\u001b[34m(df)\u001b[39m\n\u001b[32m      3\u001b[39m \u001b[38;5;28miter\u001b[39m = \u001b[32m0\u001b[39m\n\u001b[32m      4\u001b[39m \u001b[38;5;66;03m# skip carrier_letter and first column and fix repetition in the rest of the columns\u001b[39;00m\n\u001b[32m----> \u001b[39m\u001b[32m5\u001b[39m \u001b[38;5;28;01mfor\u001b[39;00m index, column \u001b[38;5;129;01min\u001b[39;00m df.columns[\u001b[32m2\u001b[39m:]:\n\u001b[32m      6\u001b[39m     \u001b[38;5;28mprint\u001b[39m(index)\n\u001b[32m     10\u001b[39m     \u001b[38;5;66;03m#\u001b[39;00m\n\u001b[32m     11\u001b[39m     \u001b[38;5;66;03m# for column_to_change in df.columns[2:]:\u001b[39;00m\n\u001b[32m     12\u001b[39m     \u001b[38;5;66;03m#     #if we have same column, skip it\u001b[39;00m\n\u001b[32m   (...)\u001b[39m\u001b[32m     34\u001b[39m \n\u001b[32m     35\u001b[39m \u001b[38;5;66;03m#7. if all columns are checked, return the dataframe\u001b[39;00m\n",
      "\u001b[31mValueError\u001b[39m: too many values to unpack (expected 2)"
     ]
    }
   ],
   "source": [
    "df_fixed = fix_repetition(df)\n"
   ]
  },
  {
   "cell_type": "code",
   "execution_count": 48,
   "metadata": {},
   "outputs": [
    {
     "name": "stdout",
     "output_type": "stream",
     "text": [
      "0    i\n",
      "1    l\n",
      "2    w\n",
      "3    r\n",
      "Name: column_2, dtype: object\n",
      "0    g\n",
      "1    h\n",
      "2    o\n",
      "3    y\n",
      "Name: column_3, dtype: object\n",
      "0    g\n",
      "1    i\n",
      "2    k\n",
      "3    o\n",
      "Name: column_4, dtype: object\n",
      "0    a\n",
      "1    b\n",
      "2    c\n",
      "3    d\n",
      "Name: column_5, dtype: object\n"
     ]
    }
   ],
   "source": [
    "for column in df.columns[2:]:\n",
    "    print(df[column])"
   ]
  }
 ],
 "metadata": {
  "kernelspec": {
   "display_name": "venv",
   "language": "python",
   "name": "python3"
  },
  "language_info": {
   "codemirror_mode": {
    "name": "ipython",
    "version": 3
   },
   "file_extension": ".py",
   "mimetype": "text/x-python",
   "name": "python",
   "nbconvert_exporter": "python",
   "pygments_lexer": "ipython3",
   "version": "3.13.2"
  }
 },
 "nbformat": 4,
 "nbformat_minor": 2
}
